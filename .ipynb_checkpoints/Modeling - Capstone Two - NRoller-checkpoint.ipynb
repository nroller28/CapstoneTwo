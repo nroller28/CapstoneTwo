{
 "cells": [
  {
   "cell_type": "markdown",
   "metadata": {},
   "source": [
    "# Modeling - Housing Price Prediction"
   ]
  },
  {
   "cell_type": "markdown",
   "metadata": {},
   "source": [
    "## By: Nick Roller"
   ]
  },
  {
   "cell_type": "markdown",
   "metadata": {},
   "source": [
    "## 1. Problem Statement:"
   ]
  },
  {
   "cell_type": "markdown",
   "metadata": {},
   "source": [
    "Our client has asked us to produce a model to predict the expected price of a home given it's features, ammenities and attributes. As our dependant variable is continuous (dollar amount of home value) this will be a regression model. We will be exploring the following regression models, applying them to our dataset and determining the one that best suits our client's needs:\n",
    "- Linear Regression\n",
    "- Random Forest Regression\n",
    "- Ridge Regression\n",
    "- Lasso Regression"
   ]
  },
  {
   "cell_type": "code",
   "execution_count": 1,
   "metadata": {},
   "outputs": [
    {
     "name": "stdout",
     "output_type": "stream",
     "text": [
      "Requirement already satisfied: xgboost in c:\\users\\nicho\\anaconda3\\lib\\site-packages (1.4.2)\n",
      "Requirement already satisfied: scipy in c:\\users\\nicho\\anaconda3\\lib\\site-packages (from xgboost) (1.5.2)\n",
      "Requirement already satisfied: numpy in c:\\users\\nicho\\anaconda3\\lib\\site-packages (from xgboost) (1.19.2)\n"
     ]
    }
   ],
   "source": [
    "#!pip install xgboost"
   ]
  },
  {
   "cell_type": "code",
   "execution_count": 2,
   "metadata": {},
   "outputs": [],
   "source": [
    "import pandas as pd\n",
    "import numpy as np\n",
    "import os\n",
    "import matplotlib.pyplot as plt\n",
    "import seaborn as sns\n",
    "from sklearn.model_selection import train_test_split, cross_validate, GridSearchCV, learning_curve\n",
    "from sklearn.decomposition import PCA\n",
    "from sklearn.preprocessing import scale\n",
    "from sklearn.ensemble import RandomForestRegressor\n",
    "from sklearn.metrics import r2_score, mean_squared_error, mean_absolute_error\n",
    "from sklearn.pipeline import make_pipeline\n",
    "from sklearn.feature_selection import SelectKBest, f_regression\n",
    "from sklearn.model_selection import train_test_split\n",
    "from sklearn.preprocessing import StandardScaler, MinMaxScaler\n",
    "from sklearn.dummy import DummyRegressor\n",
    "from sklearn.linear_model import LinearRegression\n",
    "from sklearn.metrics import mean_squared_error\n",
    "from sklearn.model_selection import cross_val_score\n",
    "from boruta import BorutaPy\n",
    "from xgboost import XGBClassifier\n",
    "from xgboost import plot_importance"
   ]
  },
  {
   "cell_type": "code",
   "execution_count": 3,
   "metadata": {},
   "outputs": [],
   "source": [
    "pd.set_option('display.max_rows', 500)"
   ]
  },
  {
   "cell_type": "markdown",
   "metadata": {},
   "source": [
    "We first load our preprocessed data. As we can see, we have already one-hot encoded the categorical variables and scaled all continuous ones."
   ]
  },
  {
   "cell_type": "code",
   "execution_count": 4,
   "metadata": {
    "scrolled": true
   },
   "outputs": [
    {
     "data": {
      "text/html": [
       "<div>\n",
       "<style scoped>\n",
       "    .dataframe tbody tr th:only-of-type {\n",
       "        vertical-align: middle;\n",
       "    }\n",
       "\n",
       "    .dataframe tbody tr th {\n",
       "        vertical-align: top;\n",
       "    }\n",
       "\n",
       "    .dataframe thead th {\n",
       "        text-align: right;\n",
       "    }\n",
       "</style>\n",
       "<table border=\"1\" class=\"dataframe\">\n",
       "  <thead>\n",
       "    <tr style=\"text-align: right;\">\n",
       "      <th></th>\n",
       "      <th>SalePrice</th>\n",
       "      <th>LotFrontage</th>\n",
       "      <th>LotArea</th>\n",
       "      <th>MasVnrArea</th>\n",
       "      <th>BsmtFinSF1</th>\n",
       "      <th>BsmtUnfSF</th>\n",
       "      <th>TotalBsmtSF</th>\n",
       "      <th>1stFlrSF</th>\n",
       "      <th>2ndFlrSF</th>\n",
       "      <th>GrLivArea</th>\n",
       "      <th>...</th>\n",
       "      <th>SaleType_ConLw</th>\n",
       "      <th>SaleType_New</th>\n",
       "      <th>SaleType_Oth</th>\n",
       "      <th>SaleType_WD</th>\n",
       "      <th>SaleCondition_Abnorml</th>\n",
       "      <th>SaleCondition_AdjLand</th>\n",
       "      <th>SaleCondition_Alloca</th>\n",
       "      <th>SaleCondition_Family</th>\n",
       "      <th>SaleCondition_Normal</th>\n",
       "      <th>SaleCondition_Partial</th>\n",
       "    </tr>\n",
       "  </thead>\n",
       "  <tbody>\n",
       "    <tr>\n",
       "      <th>0</th>\n",
       "      <td>208500</td>\n",
       "      <td>65.0</td>\n",
       "      <td>8450</td>\n",
       "      <td>196.0</td>\n",
       "      <td>706</td>\n",
       "      <td>150</td>\n",
       "      <td>856</td>\n",
       "      <td>856</td>\n",
       "      <td>854</td>\n",
       "      <td>1710</td>\n",
       "      <td>...</td>\n",
       "      <td>0</td>\n",
       "      <td>0</td>\n",
       "      <td>0</td>\n",
       "      <td>1</td>\n",
       "      <td>0</td>\n",
       "      <td>0</td>\n",
       "      <td>0</td>\n",
       "      <td>0</td>\n",
       "      <td>1</td>\n",
       "      <td>0</td>\n",
       "    </tr>\n",
       "    <tr>\n",
       "      <th>1</th>\n",
       "      <td>181500</td>\n",
       "      <td>80.0</td>\n",
       "      <td>9600</td>\n",
       "      <td>0.0</td>\n",
       "      <td>978</td>\n",
       "      <td>284</td>\n",
       "      <td>1262</td>\n",
       "      <td>1262</td>\n",
       "      <td>0</td>\n",
       "      <td>1262</td>\n",
       "      <td>...</td>\n",
       "      <td>0</td>\n",
       "      <td>0</td>\n",
       "      <td>0</td>\n",
       "      <td>1</td>\n",
       "      <td>0</td>\n",
       "      <td>0</td>\n",
       "      <td>0</td>\n",
       "      <td>0</td>\n",
       "      <td>1</td>\n",
       "      <td>0</td>\n",
       "    </tr>\n",
       "    <tr>\n",
       "      <th>2</th>\n",
       "      <td>223500</td>\n",
       "      <td>68.0</td>\n",
       "      <td>11250</td>\n",
       "      <td>162.0</td>\n",
       "      <td>486</td>\n",
       "      <td>434</td>\n",
       "      <td>920</td>\n",
       "      <td>920</td>\n",
       "      <td>866</td>\n",
       "      <td>1786</td>\n",
       "      <td>...</td>\n",
       "      <td>0</td>\n",
       "      <td>0</td>\n",
       "      <td>0</td>\n",
       "      <td>1</td>\n",
       "      <td>0</td>\n",
       "      <td>0</td>\n",
       "      <td>0</td>\n",
       "      <td>0</td>\n",
       "      <td>1</td>\n",
       "      <td>0</td>\n",
       "    </tr>\n",
       "    <tr>\n",
       "      <th>3</th>\n",
       "      <td>250000</td>\n",
       "      <td>84.0</td>\n",
       "      <td>14260</td>\n",
       "      <td>350.0</td>\n",
       "      <td>655</td>\n",
       "      <td>490</td>\n",
       "      <td>1145</td>\n",
       "      <td>1145</td>\n",
       "      <td>1053</td>\n",
       "      <td>2198</td>\n",
       "      <td>...</td>\n",
       "      <td>0</td>\n",
       "      <td>0</td>\n",
       "      <td>0</td>\n",
       "      <td>1</td>\n",
       "      <td>0</td>\n",
       "      <td>0</td>\n",
       "      <td>0</td>\n",
       "      <td>0</td>\n",
       "      <td>1</td>\n",
       "      <td>0</td>\n",
       "    </tr>\n",
       "    <tr>\n",
       "      <th>4</th>\n",
       "      <td>307000</td>\n",
       "      <td>75.0</td>\n",
       "      <td>10084</td>\n",
       "      <td>186.0</td>\n",
       "      <td>1369</td>\n",
       "      <td>317</td>\n",
       "      <td>1686</td>\n",
       "      <td>1694</td>\n",
       "      <td>0</td>\n",
       "      <td>1694</td>\n",
       "      <td>...</td>\n",
       "      <td>0</td>\n",
       "      <td>0</td>\n",
       "      <td>0</td>\n",
       "      <td>1</td>\n",
       "      <td>0</td>\n",
       "      <td>0</td>\n",
       "      <td>0</td>\n",
       "      <td>0</td>\n",
       "      <td>1</td>\n",
       "      <td>0</td>\n",
       "    </tr>\n",
       "  </tbody>\n",
       "</table>\n",
       "<p>5 rows × 251 columns</p>\n",
       "</div>"
      ],
      "text/plain": [
       "   SalePrice  LotFrontage  LotArea  MasVnrArea  BsmtFinSF1  BsmtUnfSF  \\\n",
       "0     208500         65.0     8450       196.0         706        150   \n",
       "1     181500         80.0     9600         0.0         978        284   \n",
       "2     223500         68.0    11250       162.0         486        434   \n",
       "3     250000         84.0    14260       350.0         655        490   \n",
       "4     307000         75.0    10084       186.0        1369        317   \n",
       "\n",
       "   TotalBsmtSF  1stFlrSF  2ndFlrSF  GrLivArea  ...  SaleType_ConLw  \\\n",
       "0          856       856       854       1710  ...               0   \n",
       "1         1262      1262         0       1262  ...               0   \n",
       "2          920       920       866       1786  ...               0   \n",
       "3         1145      1145      1053       2198  ...               0   \n",
       "4         1686      1694         0       1694  ...               0   \n",
       "\n",
       "   SaleType_New  SaleType_Oth  SaleType_WD  SaleCondition_Abnorml  \\\n",
       "0             0             0            1                      0   \n",
       "1             0             0            1                      0   \n",
       "2             0             0            1                      0   \n",
       "3             0             0            1                      0   \n",
       "4             0             0            1                      0   \n",
       "\n",
       "   SaleCondition_AdjLand  SaleCondition_Alloca  SaleCondition_Family  \\\n",
       "0                      0                     0                     0   \n",
       "1                      0                     0                     0   \n",
       "2                      0                     0                     0   \n",
       "3                      0                     0                     0   \n",
       "4                      0                     0                     0   \n",
       "\n",
       "   SaleCondition_Normal  SaleCondition_Partial  \n",
       "0                     1                      0  \n",
       "1                     1                      0  \n",
       "2                     1                      0  \n",
       "3                     1                      0  \n",
       "4                     1                      0  \n",
       "\n",
       "[5 rows x 251 columns]"
      ]
     },
     "execution_count": 4,
     "metadata": {},
     "output_type": "execute_result"
    }
   ],
   "source": [
    "df = pd.read_csv('Data Files/data_preprocessed.csv')\n",
    "df.head()"
   ]
  },
  {
   "cell_type": "markdown",
   "metadata": {},
   "source": [
    "## 2. Splitting training and test data"
   ]
  },
  {
   "cell_type": "code",
   "execution_count": 5,
   "metadata": {},
   "outputs": [],
   "source": [
    "#We first prepare our train and test data sets\n",
    "y=df['SalePrice'].values\n",
    "X=df.drop('SalePrice', axis=1)\n",
    "\n",
    "X_train, X_test, y_train, y_test = train_test_split(X,y,test_size=0.2)\n",
    "\n",
    "scaler = StandardScaler()\n",
    "scaler.fit(X_train)\n",
    "X_tr_scaled = scaler.transform(X_train)\n",
    "X_te_scaled = scaler.transform(X_test)"
   ]
  },
  {
   "cell_type": "code",
   "execution_count": 6,
   "metadata": {},
   "outputs": [
    {
     "data": {
      "text/plain": [
       "((909, 250), (228, 250))"
      ]
     },
     "execution_count": 6,
     "metadata": {},
     "output_type": "execute_result"
    }
   ],
   "source": [
    "X_train.shape, X_test.shape"
   ]
  },
  {
   "cell_type": "code",
   "execution_count": 7,
   "metadata": {},
   "outputs": [
    {
     "data": {
      "text/plain": [
       "((909,), (228,))"
      ]
     },
     "execution_count": 7,
     "metadata": {},
     "output_type": "execute_result"
    }
   ],
   "source": [
    "y_train.shape, y_test.shape"
   ]
  },
  {
   "cell_type": "markdown",
   "metadata": {},
   "source": [
    "## 3. Feature Selection"
   ]
  },
  {
   "cell_type": "markdown",
   "metadata": {},
   "source": [
    "### a. SelectKBest"
   ]
  },
  {
   "cell_type": "markdown",
   "metadata": {},
   "source": [
    "We will first be utilizing SelectKBest with GridSearchCV to determine the k best features."
   ]
  },
  {
   "cell_type": "markdown",
   "metadata": {},
   "source": [
    "#### SelectKBest pipeline"
   ]
  },
  {
   "cell_type": "code",
   "execution_count": 8,
   "metadata": {},
   "outputs": [],
   "source": [
    "#Set up pipeline with to refine number of features to 10 (default)\n",
    "pipe = make_pipeline(\n",
    "    SelectKBest(f_regression),\n",
    "    LinearRegression()\n",
    ")"
   ]
  },
  {
   "cell_type": "code",
   "execution_count": 9,
   "metadata": {
    "scrolled": false
   },
   "outputs": [
    {
     "data": {
      "text/plain": [
       "Pipeline(steps=[('selectkbest',\n",
       "                 SelectKBest(score_func=<function f_regression at 0x000001F6E22E0E50>)),\n",
       "                ('linearregression', LinearRegression())])"
      ]
     },
     "execution_count": 9,
     "metadata": {},
     "output_type": "execute_result"
    }
   ],
   "source": [
    "#fitting pipeline to training data\n",
    "pipe.fit(X_train, y_train)"
   ]
  },
  {
   "cell_type": "code",
   "execution_count": 10,
   "metadata": {},
   "outputs": [],
   "source": [
    "#making predictions on our test data\n",
    "y_tr_pred = pipe.predict(X_train)\n",
    "y_te_pred = pipe.predict(X_test)"
   ]
  },
  {
   "cell_type": "code",
   "execution_count": 11,
   "metadata": {},
   "outputs": [
    {
     "data": {
      "text/plain": [
       "(0.8322084424795724, 0.8132457332436878)"
      ]
     },
     "execution_count": 11,
     "metadata": {},
     "output_type": "execute_result"
    }
   ],
   "source": [
    "r2_score(y_train, y_tr_pred), r2_score(y_test, y_te_pred)"
   ]
  },
  {
   "cell_type": "code",
   "execution_count": 12,
   "metadata": {},
   "outputs": [
    {
     "data": {
      "text/plain": [
       "(18527.224700180825, 19577.466764064695)"
      ]
     },
     "execution_count": 12,
     "metadata": {},
     "output_type": "execute_result"
    }
   ],
   "source": [
    "mean_absolute_error(y_train, y_tr_pred), mean_absolute_error(y_test, y_te_pred)"
   ]
  },
  {
   "cell_type": "code",
   "execution_count": 13,
   "metadata": {},
   "outputs": [
    {
     "data": {
      "text/plain": [
       "(679290956.2851087, 812174965.7454973)"
      ]
     },
     "execution_count": 13,
     "metadata": {},
     "output_type": "execute_result"
    }
   ],
   "source": [
    "mean_squared_error(y_train, y_tr_pred), mean_squared_error(y_test, y_te_pred)"
   ]
  },
  {
   "cell_type": "markdown",
   "metadata": {},
   "source": [
    "#### Linear Model with SelectKBest and Gridsearch CV"
   ]
  },
  {
   "cell_type": "code",
   "execution_count": 14,
   "metadata": {},
   "outputs": [
    {
     "data": {
      "text/plain": [
       "dict_keys(['memory', 'steps', 'verbose', 'selectkbest', 'linearregression', 'selectkbest__k', 'selectkbest__score_func', 'linearregression__copy_X', 'linearregression__fit_intercept', 'linearregression__n_jobs', 'linearregression__normalize'])"
      ]
     },
     "execution_count": 14,
     "metadata": {},
     "output_type": "execute_result"
    }
   ],
   "source": [
    "pipe.get_params().keys()"
   ]
  },
  {
   "cell_type": "code",
   "execution_count": 15,
   "metadata": {},
   "outputs": [],
   "source": [
    "k = [k+1 for k in range(len(X_train.columns))]\n",
    "grid_params = {'selectkbest__k': k}"
   ]
  },
  {
   "cell_type": "code",
   "execution_count": 16,
   "metadata": {},
   "outputs": [],
   "source": [
    "lr_grid_cv = GridSearchCV(pipe, param_grid=grid_params, cv=5, n_jobs=-1)"
   ]
  },
  {
   "cell_type": "code",
   "execution_count": 17,
   "metadata": {},
   "outputs": [
    {
     "data": {
      "text/plain": [
       "GridSearchCV(cv=5,\n",
       "             estimator=Pipeline(steps=[('selectkbest',\n",
       "                                        SelectKBest(score_func=<function f_regression at 0x000001F6E22E0E50>)),\n",
       "                                       ('linearregression',\n",
       "                                        LinearRegression())]),\n",
       "             n_jobs=-1,\n",
       "             param_grid={'selectkbest__k': [1, 2, 3, 4, 5, 6, 7, 8, 9, 10, 11,\n",
       "                                            12, 13, 14, 15, 16, 17, 18, 19, 20,\n",
       "                                            21, 22, 23, 24, 25, 26, 27, 28, 29,\n",
       "                                            30, ...]})"
      ]
     },
     "execution_count": 17,
     "metadata": {},
     "output_type": "execute_result"
    }
   ],
   "source": [
    "lr_grid_cv.fit(X_train, y_train)"
   ]
  },
  {
   "cell_type": "code",
   "execution_count": 18,
   "metadata": {},
   "outputs": [],
   "source": [
    "score_mean = lr_grid_cv.cv_results_['mean_test_score']\n",
    "score_std = lr_grid_cv.cv_results_['std_test_score']\n",
    "cv_k = [k for k in lr_grid_cv.cv_results_['param_selectkbest__k']]"
   ]
  },
  {
   "cell_type": "code",
   "execution_count": 19,
   "metadata": {},
   "outputs": [
    {
     "data": {
      "text/plain": [
       "{'selectkbest__k': 158}"
      ]
     },
     "execution_count": 19,
     "metadata": {},
     "output_type": "execute_result"
    }
   ],
   "source": [
    "lr_grid_cv.best_params_"
   ]
  },
  {
   "cell_type": "code",
   "execution_count": 20,
   "metadata": {
    "scrolled": true
   },
   "outputs": [
    {
     "data": {
      "image/png": "[encoded data removed]",
      "text/plain": [
       "<Figure size 720x360 with 1 Axes>"
      ]
     },
     "metadata": {
      "needs_background": "light"
     },
     "output_type": "display_data"
    }
   ],
   "source": [
    "best_k = lr_grid_cv.best_params_['selectkbest__k']\n",
    "plt.subplots(figsize=(10, 5))\n",
    "plt.errorbar(cv_k, score_mean, yerr=score_std)\n",
    "plt.axvline(x=best_k, c='r', ls='--', alpha=.5)\n",
    "plt.xlabel('k')\n",
    "plt.ylabel('CV score (r-squared)')\n",
    "plt.title('Pipeline mean CV score (error bars +/- 1sd)');"
   ]
  },
  {
   "cell_type": "code",
   "execution_count": 21,
   "metadata": {},
   "outputs": [],
   "source": [
    "selected = lr_grid_cv.best_estimator_.named_steps.selectkbest.get_support()"
   ]
  },
  {
   "cell_type": "code",
   "execution_count": 22,
   "metadata": {
    "scrolled": true
   },
   "outputs": [
    {
     "data": {
      "text/plain": [
       "SaleType_CWD             46302.717961\n",
       "Neighborhood_Crawfor     35540.580766\n",
       "Neighborhood_NridgHt     26525.412118\n",
       "ExterQual_Ex             26489.107767\n",
       "Neighborhood_StoneBr     25685.749614\n",
       "Neighborhood_BrDale      22396.759321\n",
       "SaleType_New             20985.518168\n",
       "Neighborhood_NoRidge     19696.901394\n",
       "KitchenQual_Ex           18260.457787\n",
       "BsmtExposure_Gd          17524.201533\n",
       "Neighborhood_Somerst     14808.217544\n",
       "MasVnrType_Stone         14338.653680\n",
       "BsmtQual_Ex              13598.380558\n",
       "Neighborhood_BrkSide     13316.408963\n",
       "GarageType_CarPort       12879.382114\n",
       "Functional_Typ           12622.643276\n",
       "Exterior2nd_Wd Sdng      11736.652409\n",
       "GarageType_Detchd        11667.066529\n",
       "Exterior2nd_Other        11652.686712\n",
       "FireplaceQu_Ex           11315.405938\n",
       "BldgType_1Fam            11102.948703\n",
       "LotConfig_CulDSac         9871.414972\n",
       "GarageType_BuiltIn        9338.789159\n",
       "GarageType_Attchd         8910.296390\n",
       "MasVnrType_BrkFace        8577.176341\n",
       "HouseStyle_1.5Unf         8229.522484\n",
       "MasVnrType_None           8190.866276\n",
       "Heating_GasA              7552.232127\n",
       "BsmtFinType1_GLQ          6556.575962\n",
       "MiscFeature_None          6394.125849\n",
       "Neighborhood_IDOTRR       6298.684551\n",
       "Condition1_Norm           5615.887785\n",
       "RoofStyle_Hip             5371.928319\n",
       "LotShape_Reg              5183.054615\n",
       "Neighborhood_Timber       5033.604200\n",
       "GarageFinish_None         4217.926240\n",
       "GarageCond_None           4217.926240\n",
       "GarageQual_None           4217.926240\n",
       "GarageType_None           4217.926240\n",
       "Neighborhood_OldTown      4056.466633\n",
       "PavedDrive_N              3966.399709\n",
       "FireplaceQu_TA            3694.024298\n",
       "LotShape_IR1              3469.155317\n",
       "FireplaceQu_Gd            2754.236172\n",
       "HeatingQC_Ex              2461.894415\n",
       "Exterior2nd_Wd Shng       2291.141993\n",
       "GarageQual_TA             2266.975973\n",
       "LandContour_Bnk           2186.866106\n",
       "RoofStyle_Gable           1730.007424\n",
       "Fence_GdWo                1698.848155\n",
       "Neighborhood_Gilbert      1690.514147\n",
       "Electrical_FuseA          1584.396803\n",
       "GarageFinish_Fin          1558.530344\n",
       "LandContour_HLS           1516.456164\n",
       "Exterior2nd_AsbShng       1498.189864\n",
       "BsmtFinType1_Unf          1435.458946\n",
       "CentralAir_Y              1376.209802\n",
       "Foundation_Slab           1192.601625\n",
       "Neighborhood_CollgCr      1038.278175\n",
       "PavedDrive_Y              1031.271308\n",
       "MSZoning_FV                964.678691\n",
       "BsmtFinType1_ALQ           901.207765\n",
       "ExterQual_Gd               755.917856\n",
       "Alley_None                 693.713732\n",
       "BsmtFinType1_BLQ           685.863779\n",
       "Electrical_SBrkr           466.516858\n",
       "Exterior2nd_VinylSd        404.996020\n",
       "Foundation_CBlock          157.549635\n",
       "HeatingQC_Gd               132.136777\n",
       "Neighborhood_NAmes         127.559583\n",
       "HeatingQC_Fa               126.614704\n",
       "Garage_Age                 104.329675\n",
       "BsmtExposure_Av             66.455712\n",
       "2ndFlrSF                    59.285145\n",
       "1stFlrSF                    54.053078\n",
       "OpenPorchSF                 43.776374\n",
       "LotFrontage                 31.796760\n",
       "GarageArea                  30.970150\n",
       "MiscVal                     26.590253\n",
       "WoodDeckSF                  22.963322\n",
       "BsmtFinSF1                  16.178459\n",
       "TotalBsmtSF                 14.737168\n",
       "LotArea                      0.475239\n",
       "BsmtUnfSF                    0.002270\n",
       "GrLivArea                   -1.518037\n",
       "MasVnrArea                  -2.627722\n",
       "Foundation_PConc           -30.944038\n",
       "Remod_Age                  -53.185401\n",
       "House_Age                 -216.098192\n",
       "HouseStyle_SFoyer         -349.813434\n",
       "Alley_Grvl                -995.608061\n",
       "Exterior2nd_MetalSd      -1023.516666\n",
       "Exterior2nd_HdBoard      -1034.325497\n",
       "Fence_None               -1113.258755\n",
       "FireplaceQu_None         -1153.508651\n",
       "MSZoning_RL              -1175.757948\n",
       "Electrical_FuseF         -1358.515143\n",
       "CentralAir_N             -1376.209802\n",
       "HouseStyle_1.5Fin        -1480.928615\n",
       "SaleCondition_Normal     -1503.339062\n",
       "BsmtQual_Fa              -1653.206129\n",
       "ExterCond_Gd             -1665.949160\n",
       "Condition1_Feedr         -1735.071243\n",
       "Neighborhood_Sawyer      -1874.779078\n",
       "BsmtExposure_No          -1910.954513\n",
       "GarageFinish_RFn         -2092.124757\n",
       "Fence_MnPrv              -2494.048222\n",
       "GarageCond_TA            -2560.964710\n",
       "BsmtFinType1_None        -2571.698690\n",
       "BsmtCond_None            -2571.698690\n",
       "BsmtFinType2_None        -2571.698690\n",
       "BsmtQual_None            -2571.698690\n",
       "ExterCond_TA             -2583.055336\n",
       "HeatingQC_TA             -2720.645896\n",
       "Heating_Grav             -2872.716951\n",
       "BsmtQual_Gd              -2918.738889\n",
       "BsmtFinType1_Rec         -3293.692883\n",
       "Exterior1st_AsbShng      -3409.600142\n",
       "BsmtFinType2_Unf         -3456.557684\n",
       "ExterCond_Fa             -3651.987510\n",
       "Foundation_BrkTil        -3679.928688\n",
       "GarageFinish_Unf         -3684.331827\n",
       "BsmtFinType1_LwQ         -3713.714879\n",
       "KitchenQual_Gd           -3786.393366\n",
       "Exterior2nd_Plywood      -3906.078448\n",
       "HouseStyle_2Story        -3936.716061\n",
       "Exterior1st_VinylSd      -4398.243546\n",
       "Neighborhood_Edwards     -4431.730475\n",
       "PavedDrive_P             -4997.671017\n",
       "MiscFeature_Shed         -6394.125849\n",
       "BsmtQual_TA              -6454.736850\n",
       "KitchenQual_Fa           -6783.086407\n",
       "Exterior1st_MetalSd      -6968.833040\n",
       "Condition1_Artery        -7216.991634\n",
       "KitchenQual_TA           -7690.978015\n",
       "GarageQual_Fa            -7705.135803\n",
       "ExterQual_TA             -7807.039869\n",
       "SaleType_WD              -8021.894327\n",
       "BldgType_2fmCon          -8268.459659\n",
       "MSZoning_RM              -9201.488740\n",
       "BldgType_Twnhs           -9320.232408\n",
       "SaleCondition_Abnorml    -9892.243374\n",
       "BsmtCond_Gd              -9947.788526\n",
       "Exterior1st_HdBoard      -9968.702463\n",
       "Neighborhood_MeadowV    -10410.717342\n",
       "Exterior1st_WdShing     -10641.109547\n",
       "GarageCond_Fa           -10778.312596\n",
       "SaleType_COD            -10829.456016\n",
       "BsmtExposure_None       -11567.468358\n",
       "BsmtCond_TA             -12902.912283\n",
       "BldgType_Duplex         -14913.464275\n",
       "Functional_Mod          -18152.451040\n",
       "ExterQual_Fa            -19437.985754\n",
       "Exterior1st_Wd Sdng     -20348.725946\n",
       "BsmtCond_Fa             -22356.148570\n",
       "SaleCondition_Partial   -22717.211702\n",
       "Functional_Maj2         -38791.563829\n",
       "MSZoning_C (all)        -42333.640294\n",
       "dtype: float64"
      ]
     },
     "execution_count": 22,
     "metadata": {},
     "output_type": "execute_result"
    }
   ],
   "source": [
    "coefs = lr_grid_cv.best_estimator_.named_steps.linearregression.coef_\n",
    "features = X_train.columns[selected]\n",
    "pd.Series(coefs, index=features).sort_values(ascending=False)"
   ]
  },
  {
   "cell_type": "markdown",
   "metadata": {},
   "source": [
    "### b. Random Forest Model"
   ]
  },
  {
   "cell_type": "markdown",
   "metadata": {},
   "source": [
    "#### Make Pipeline"
   ]
  },
  {
   "cell_type": "code",
   "execution_count": 23,
   "metadata": {},
   "outputs": [],
   "source": [
    "RF_pipe = make_pipeline(\n",
    "    StandardScaler(),\n",
    "    RandomForestRegressor()\n",
    ")"
   ]
  },
  {
   "cell_type": "markdown",
   "metadata": {},
   "source": [
    "#### Fit and assess using CV"
   ]
  },
  {
   "cell_type": "code",
   "execution_count": 24,
   "metadata": {},
   "outputs": [],
   "source": [
    "rf_default_cv_results = cross_validate(RF_pipe, X_train, y_train, cv=5)"
   ]
  },
  {
   "cell_type": "code",
   "execution_count": 25,
   "metadata": {},
   "outputs": [
    {
     "data": {
      "text/plain": [
       "array([0.8435435 , 0.89105981, 0.86956449, 0.87071647, 0.90642222])"
      ]
     },
     "execution_count": 25,
     "metadata": {},
     "output_type": "execute_result"
    }
   ],
   "source": [
    "rf_cv_scores = rf_default_cv_results['test_score']\n",
    "rf_cv_scores"
   ]
  },
  {
   "cell_type": "code",
   "execution_count": 26,
   "metadata": {},
   "outputs": [
    {
     "data": {
      "text/plain": [
       "(0.8762612973912045, 0.021329431393809026)"
      ]
     },
     "execution_count": 26,
     "metadata": {},
     "output_type": "execute_result"
    }
   ],
   "source": [
    "np.mean(rf_cv_scores), np.std(rf_cv_scores)"
   ]
  },
  {
   "cell_type": "markdown",
   "metadata": {},
   "source": [
    "#### GridsearchCV"
   ]
  },
  {
   "cell_type": "code",
   "execution_count": 27,
   "metadata": {},
   "outputs": [
    {
     "data": {
      "text/plain": [
       "{'randomforestregressor__n_estimators': [10,\n",
       "  12,\n",
       "  16,\n",
       "  20,\n",
       "  26,\n",
       "  33,\n",
       "  42,\n",
       "  54,\n",
       "  69,\n",
       "  88,\n",
       "  112,\n",
       "  143,\n",
       "  183,\n",
       "  233,\n",
       "  297,\n",
       "  379,\n",
       "  483,\n",
       "  615,\n",
       "  784,\n",
       "  1000],\n",
       " 'standardscaler': [StandardScaler(), None]}"
      ]
     },
     "execution_count": 27,
     "metadata": {},
     "output_type": "execute_result"
    }
   ],
   "source": [
    "n_est = [int(n) for n in np.logspace(start=1, stop=3, num=20)]\n",
    "grid_params = {\n",
    "        'randomforestregressor__n_estimators': n_est,\n",
    "        'standardscaler': [StandardScaler(), None]\n",
    "}\n",
    "grid_params"
   ]
  },
  {
   "cell_type": "code",
   "execution_count": 28,
   "metadata": {},
   "outputs": [],
   "source": [
    "rf_grid_cv = GridSearchCV(RF_pipe, param_grid=grid_params, cv=5, n_jobs=-1)"
   ]
  },
  {
   "cell_type": "code",
   "execution_count": 29,
   "metadata": {},
   "outputs": [
    {
     "data": {
      "text/plain": [
       "GridSearchCV(cv=5,\n",
       "             estimator=Pipeline(steps=[('standardscaler', StandardScaler()),\n",
       "                                       ('randomforestregressor',\n",
       "                                        RandomForestRegressor())]),\n",
       "             n_jobs=-1,\n",
       "             param_grid={'randomforestregressor__n_estimators': [10, 12, 16, 20,\n",
       "                                                                 26, 33, 42, 54,\n",
       "                                                                 69, 88, 112,\n",
       "                                                                 143, 183, 233,\n",
       "                                                                 297, 379, 483,\n",
       "                                                                 615, 784,\n",
       "                                                                 1000],\n",
       "                         'standardscaler': [StandardScaler(), None]})"
      ]
     },
     "execution_count": 29,
     "metadata": {},
     "output_type": "execute_result"
    }
   ],
   "source": [
    "rf_grid_cv.fit(X_train, y_train)"
   ]
  },
  {
   "cell_type": "code",
   "execution_count": 30,
   "metadata": {},
   "outputs": [
    {
     "data": {
      "text/plain": [
       "{'randomforestregressor__n_estimators': 88, 'standardscaler': StandardScaler()}"
      ]
     },
     "execution_count": 30,
     "metadata": {},
     "output_type": "execute_result"
    }
   ],
   "source": [
    "rf_grid_cv.best_params_"
   ]
  },
  {
   "cell_type": "code",
   "execution_count": 31,
   "metadata": {},
   "outputs": [
    {
     "data": {
      "text/plain": [
       "array([0.8405579 , 0.88505412, 0.8657286 , 0.87592723, 0.90533263])"
      ]
     },
     "execution_count": 31,
     "metadata": {},
     "output_type": "execute_result"
    }
   ],
   "source": [
    "rf_best_cv_results = cross_validate(rf_grid_cv.best_estimator_, X_train, y_train, cv=5)\n",
    "rf_best_scores = rf_best_cv_results['test_score']\n",
    "rf_best_scores"
   ]
  },
  {
   "cell_type": "code",
   "execution_count": 32,
   "metadata": {},
   "outputs": [
    {
     "data": {
      "text/plain": [
       "(0.8745200989332359, 0.021415317571398466)"
      ]
     },
     "execution_count": 32,
     "metadata": {},
     "output_type": "execute_result"
    }
   ],
   "source": [
    "np.mean(rf_best_scores), np.std(rf_best_scores)"
   ]
  },
  {
   "cell_type": "code",
   "execution_count": 33,
   "metadata": {
    "scrolled": false
   },
   "outputs": [
    {
     "data": {
      "image/png": "[encoded data removed]",
      "text/plain": [
       "<Figure size 1440x720 with 1 Axes>"
      ]
     },
     "metadata": {
      "needs_background": "light"
     },
     "output_type": "display_data"
    }
   ],
   "source": [
    "plt.subplots(figsize=(20, 10))\n",
    "imps = rf_grid_cv.best_estimator_.named_steps.randomforestregressor.feature_importances_\n",
    "rf_feat_imps = pd.Series(imps, index=X_train.columns).sort_values(ascending=False)\n",
    "rf_feat_imps.plot(kind='bar')\n",
    "plt.xlabel('features')\n",
    "plt.ylabel('importance')\n",
    "plt.title('Best random forest regressor feature importances');"
   ]
  },
  {
   "cell_type": "code",
   "execution_count": 34,
   "metadata": {
    "scrolled": true
   },
   "outputs": [
    {
     "data": {
      "text/plain": [
       "House_Age                3.077860e-01\n",
       "GrLivArea                1.533805e-01\n",
       "ExterQual_TA             1.361417e-01\n",
       "GarageArea               9.753199e-02\n",
       "BsmtFinSF1               5.477032e-02\n",
       "TotalBsmtSF              4.046441e-02\n",
       "1stFlrSF                 2.892719e-02\n",
       "FireplaceQu_None         2.084464e-02\n",
       "BsmtQual_Ex              1.580955e-02\n",
       "LotArea                  1.539670e-02\n",
       "BsmtUnfSF                9.463384e-03\n",
       "KitchenQual_Ex           8.383617e-03\n",
       "ExterQual_Gd             8.072303e-03\n",
       "BsmtQual_Gd              7.687859e-03\n",
       "2ndFlrSF                 6.614621e-03\n",
       "Garage_Age               5.063185e-03\n",
       "LotFrontage              5.022479e-03\n",
       "OpenPorchSF              4.902067e-03\n",
       "WoodDeckSF               4.540039e-03\n",
       "MasVnrArea               3.955879e-03\n",
       "Neighborhood_Crawfor     3.655097e-03\n",
       "GarageType_Attchd        2.703187e-03\n",
       "Remod_Age                2.690119e-03\n",
       "CentralAir_Y             1.864445e-03\n",
       "CentralAir_N             1.560325e-03\n",
       "Exterior1st_BrkFace      1.550519e-03\n",
       "BsmtExposure_Gd          1.509753e-03\n",
       "ExterQual_Ex             1.303624e-03\n",
       "GarageType_Detchd        1.286278e-03\n",
       "GarageCond_TA            1.017099e-03\n",
       "BldgType_1Fam            9.880709e-04\n",
       "KitchenQual_Gd           9.815820e-04\n",
       "BsmtFinType1_GLQ         9.416717e-04\n",
       "ExterCond_Fa             9.045013e-04\n",
       "SaleCondition_Abnorml    8.854949e-04\n",
       "GarageFinish_Fin         8.735917e-04\n",
       "SaleType_WD              8.080094e-04\n",
       "SaleCondition_Partial    8.030207e-04\n",
       "MSZoning_C (all)         7.119007e-04\n",
       "FireplaceQu_Gd           6.913583e-04\n",
       "GarageQual_TA            6.895304e-04\n",
       "MSZoning_RL              6.770248e-04\n",
       "Neighborhood_NridgHt     6.749816e-04\n",
       "GarageFinish_RFn         6.727450e-04\n",
       "Exterior1st_VinylSd      6.644085e-04\n",
       "GarageFinish_Unf         6.633180e-04\n",
       "PavedDrive_N             6.584648e-04\n",
       "LotShape_Reg             6.561089e-04\n",
       "BsmtExposure_No          6.482088e-04\n",
       "Exterior2nd_CmentBd      6.139171e-04\n",
       "BsmtCond_TA              6.087812e-04\n",
       "Exterior2nd_VinylSd      6.013161e-04\n",
       "FireplaceQu_TA           5.972434e-04\n",
       "Neighborhood_Edwards     5.825122e-04\n",
       "MasVnrType_Stone         5.798018e-04\n",
       "KitchenQual_TA           5.714122e-04\n",
       "BsmtQual_TA              5.537090e-04\n",
       "SaleType_New             5.298414e-04\n",
       "PavedDrive_Y             5.195078e-04\n",
       "SaleCondition_Normal     5.092271e-04\n",
       "Functional_Typ           5.053302e-04\n",
       "RoofStyle_Gable          5.033007e-04\n",
       "BsmtFinType1_ALQ         4.825841e-04\n",
       "Neighborhood_Somerst     4.766385e-04\n",
       "MSZoning_RM              4.706151e-04\n",
       "ExterCond_TA             4.635305e-04\n",
       "HeatingQC_TA             4.443208e-04\n",
       "BsmtCond_Fa              4.375734e-04\n",
       "Neighborhood_NWAmes      4.349433e-04\n",
       "HeatingQC_Ex             4.295620e-04\n",
       "LotConfig_Corner         4.232140e-04\n",
       "HouseStyle_2Story        4.122691e-04\n",
       "Condition1_Norm          3.888711e-04\n",
       "HouseStyle_1.5Fin        3.799175e-04\n",
       "Functional_Maj1          3.728047e-04\n",
       "LotConfig_Inside         3.680421e-04\n",
       "LotShape_IR1             3.589337e-04\n",
       "LandContour_Lvl          3.562584e-04\n",
       "Exterior1st_CemntBd      3.536319e-04\n",
       "MSZoning_FV              3.507620e-04\n",
       "RoofStyle_Gambrel        3.481356e-04\n",
       "HouseStyle_1Story        3.419081e-04\n",
       "Neighborhood_Gilbert     3.368373e-04\n",
       "Neighborhood_CollgCr     3.251372e-04\n",
       "Exterior1st_BrkComm      3.247370e-04\n",
       "BsmtExposure_Mn          3.124402e-04\n",
       "BsmtExposure_Av          3.096224e-04\n",
       "ExterQual_Fa             3.061502e-04\n",
       "RoofStyle_Hip            3.053630e-04\n",
       "RoofStyle_Shed           2.996938e-04\n",
       "MasVnrType_None          2.975664e-04\n",
       "Foundation_PConc         2.916058e-04\n",
       "Neighborhood_OldTown     2.915000e-04\n",
       "Exterior2nd_HdBoard      2.898476e-04\n",
       "Neighborhood_Mitchel     2.765625e-04\n",
       "HouseStyle_SLvl          2.733703e-04\n",
       "Condition1_Artery        2.705885e-04\n",
       "LandSlope_Gtl            2.667256e-04\n",
       "LotConfig_CulDSac        2.526662e-04\n",
       "Exterior1st_Wd Sdng      2.494172e-04\n",
       "Exterior1st_MetalSd      2.446598e-04\n",
       "MasVnrType_BrkFace       2.385442e-04\n",
       "BsmtQual_Fa              2.316318e-04\n",
       "Neighborhood_MeadowV     2.297443e-04\n",
       "Fence_None               2.263181e-04\n",
       "Foundation_CBlock        2.256104e-04\n",
       "BsmtFinType1_Rec         2.215929e-04\n",
       "HeatingQC_Fa             2.103711e-04\n",
       "HeatingQC_Gd             2.009643e-04\n",
       "BsmtFinType1_BLQ         1.988539e-04\n",
       "Fence_MnPrv              1.988395e-04\n",
       "ExterCond_Gd             1.986537e-04\n",
       "Exterior2nd_Wd Sdng      1.982128e-04\n",
       "Exterior2nd_MetalSd      1.954796e-04\n",
       "Neighborhood_NAmes       1.928749e-04\n",
       "Exterior2nd_Stucco       1.919262e-04\n",
       "BsmtFinType1_Unf         1.901318e-04\n",
       "Exterior1st_HdBoard      1.859474e-04\n",
       "GarageFinish_None        1.763186e-04\n",
       "GarageType_BuiltIn       1.741254e-04\n",
       "Electrical_SBrkr         1.660040e-04\n",
       "Alley_Pave               1.651733e-04\n",
       "MasVnrType_BrkCmn        1.590371e-04\n",
       "BsmtFinType2_Unf         1.569447e-04\n",
       "Neighborhood_Timber      1.551388e-04\n",
       "Neighborhood_Sawyer      1.549977e-04\n",
       "Neighborhood_ClearCr     1.513611e-04\n",
       "BsmtFinType2_LwQ         1.485174e-04\n",
       "LandContour_HLS          1.471701e-04\n",
       "LandContour_Bnk          1.442139e-04\n",
       "Neighborhood_NoRidge     1.370872e-04\n",
       "Exterior2nd_Plywood      1.350631e-04\n",
       "Foundation_BrkTil        1.299487e-04\n",
       "Exterior1st_Plywood      1.248545e-04\n",
       "Functional_Min2          1.235607e-04\n",
       "SaleType_CWD             1.187646e-04\n",
       "GarageQual_Fa            1.159207e-04\n",
       "GarageCond_Fa            1.107728e-04\n",
       "LotConfig_FR2            1.096298e-04\n",
       "BldgType_2fmCon          1.072366e-04\n",
       "Exterior2nd_Brk Cmn      1.063555e-04\n",
       "Fence_GdPrv              1.048928e-04\n",
       "Neighborhood_IDOTRR      1.041754e-04\n",
       "Fence_GdWo               1.021462e-04\n",
       "GarageQual_None          1.008965e-04\n",
       "BldgType_Duplex          1.004365e-04\n",
       "BsmtCond_Gd              9.962851e-05\n",
       "GarageCond_None          9.932323e-05\n",
       "BldgType_TwnhsE          9.830055e-05\n",
       "Alley_None               9.790788e-05\n",
       "LandSlope_Mod            9.779261e-05\n",
       "Exterior2nd_BrkFace      9.717160e-05\n",
       "BsmtFinType1_LwQ         9.427807e-05\n",
       "Functional_Mod           9.289755e-05\n",
       "SaleCondition_Family     8.923339e-05\n",
       "Condition1_Feedr         8.900627e-05\n",
       "LandSlope_Sev            8.892219e-05\n",
       "Neighborhood_BrkSide     8.571033e-05\n",
       "Alley_Grvl               8.453768e-05\n",
       "PavedDrive_P             8.334822e-05\n",
       "BldgType_Twnhs           8.229120e-05\n",
       "Neighborhood_SawyerW     8.224213e-05\n",
       "Electrical_FuseA         7.512830e-05\n",
       "GarageType_None          7.335121e-05\n",
       "LandContour_Low          7.236605e-05\n",
       "BsmtFinType2_BLQ         6.976003e-05\n",
       "Exterior1st_AsbShng      6.904685e-05\n",
       "Exterior1st_Stucco       6.317865e-05\n",
       "Functional_Maj2          5.875252e-05\n",
       "Neighborhood_StoneBr     5.618312e-05\n",
       "Heating_Grav             5.564298e-05\n",
       "SaleType_COD             5.521314e-05\n",
       "Exterior2nd_AsbShng      5.469774e-05\n",
       "FireplaceQu_Ex           5.332136e-05\n",
       "KitchenQual_Fa           5.294881e-05\n",
       "GarageType_CarPort       5.044732e-05\n",
       "MSZoning_RH              5.005067e-05\n",
       "Electrical_FuseF         5.002005e-05\n",
       "SaleType_ConLw           4.685883e-05\n",
       "MiscFeature_Shed         4.574236e-05\n",
       "Condition1_RRAe          4.050580e-05\n",
       "LotShape_IR2             3.908009e-05\n",
       "Foundation_Slab          3.789834e-05\n",
       "Heating_GasW             3.666257e-05\n",
       "Condition1_PosN          3.593502e-05\n",
       "BsmtExposure_None        3.332817e-05\n",
       "Heating_GasA             3.242512e-05\n",
       "FireplaceQu_Fa           2.876006e-05\n",
       "Exterior2nd_Wd Shng      2.655905e-05\n",
       "SaleType_Con             2.399065e-05\n",
       "BsmtQual_None            2.391320e-05\n",
       "Neighborhood_NPkVill     2.157337e-05\n",
       "BsmtFinType2_Rec         2.099262e-05\n",
       "Exterior1st_WdShing      2.055979e-05\n",
       "GarageType_Basment       2.030201e-05\n",
       "MiscVal                  2.030086e-05\n",
       "ExterCond_Po             1.991244e-05\n",
       "SaleType_Oth             1.968569e-05\n",
       "Exterior2nd_ImStucc      1.958385e-05\n",
       "BsmtFinType1_None        1.802372e-05\n",
       "Exterior2nd_Stone        1.781184e-05\n",
       "Neighborhood_SWISU       1.712227e-05\n",
       "Exterior1st_ImStucc      1.695999e-05\n",
       "HouseStyle_1.5Unf        1.676120e-05\n",
       "Neighborhood_Blmngtn     1.430143e-05\n",
       "BsmtCond_None            1.365000e-05\n",
       "BsmtFinType2_None        1.318202e-05\n",
       "HouseStyle_SFoyer        1.311484e-05\n",
       "Electrical_FuseP         1.264146e-05\n",
       "Exterior1st_AsphShn      1.210791e-05\n",
       "Condition1_RRAn          1.071347e-05\n",
       "Fence_MnWw               1.058655e-05\n",
       "Functional_Min1          1.057406e-05\n",
       "HouseStyle_2.5Unf        9.231548e-06\n",
       "FireplaceQu_Po           9.010032e-06\n",
       "BsmtCond_Po              8.324861e-06\n",
       "MiscFeature_None         8.064264e-06\n",
       "SaleType_ConLI           8.058648e-06\n",
       "Neighborhood_Veenker     5.671567e-06\n",
       "BsmtFinType2_ALQ         5.219466e-06\n",
       "GarageQual_Gd            4.714853e-06\n",
       "GarageCond_Po            4.692094e-06\n",
       "LotShape_IR3             4.467238e-06\n",
       "SaleCondition_AdjLand    4.393695e-06\n",
       "LotConfig_FR3            4.105381e-06\n",
       "Exterior2nd_Other        3.857826e-06\n",
       "Neighborhood_Blueste     3.589308e-06\n",
       "SaleType_ConLD           3.550642e-06\n",
       "Exterior2nd_AsphShn      3.209537e-06\n",
       "GarageQual_Po            2.999475e-06\n",
       "Neighborhood_BrDale      2.708758e-06\n",
       "SaleCondition_Alloca     2.461541e-06\n",
       "Condition1_RRNn          2.328645e-06\n",
       "RoofStyle_Mansard        2.096130e-06\n",
       "GarageCond_Gd            1.596491e-06\n",
       "Condition1_PosA          1.251655e-06\n",
       "RoofStyle_Flat           1.119052e-06\n",
       "ExterCond_Ex             1.009885e-06\n",
       "Foundation_Wood          9.388912e-07\n",
       "BsmtFinType2_GLQ         6.734516e-07\n",
       "GarageCond_Ex            4.625904e-07\n",
       "Heating_Wall             3.451793e-07\n",
       "Exterior1st_CBlock       2.297268e-07\n",
       "Exterior2nd_CBlock       2.253291e-07\n",
       "Foundation_Stone         2.063529e-07\n",
       "Heating_Floor            1.687919e-07\n",
       "Condition1_RRNe          2.772459e-08\n",
       "GarageQual_Ex            6.272593e-09\n",
       "Electrical_Mix           0.000000e+00\n",
       "GarageType_2Types        0.000000e+00\n",
       "dtype: float64"
      ]
     },
     "execution_count": 34,
     "metadata": {},
     "output_type": "execute_result"
    }
   ],
   "source": [
    "rf_feat_imps"
   ]
  },
  {
   "cell_type": "markdown",
   "metadata": {},
   "source": [
    "### c. XGBoost"
   ]
  },
  {
   "cell_type": "code",
   "execution_count": 35,
   "metadata": {
    "scrolled": true
   },
   "outputs": [
    {
     "data": {
      "text/plain": [
       "ExterQual_TA             2.322960e-01\n",
       "KitchenQual_Ex           1.089326e-01\n",
       "BsmtQual_Ex              5.585622e-02\n",
       "ExterQual_Fa             4.845393e-02\n",
       "House_Age                4.596350e-02\n",
       "GarageType_2Types        3.788871e-02\n",
       "Heating_Grav             2.998203e-02\n",
       "ExterQual_Ex             2.372622e-02\n",
       "FireplaceQu_None         2.309152e-02\n",
       "GrLivArea                2.185407e-02\n",
       "Neighborhood_Crawfor     2.041956e-02\n",
       "GarageCond_TA            1.957448e-02\n",
       "ExterCond_Po             1.685602e-02\n",
       "Exterior1st_BrkComm      1.652418e-02\n",
       "CentralAir_N             1.439788e-02\n",
       "MSZoning_C (all)         1.225619e-02\n",
       "LotShape_IR3             1.006820e-02\n",
       "Functional_Maj2          9.603544e-03\n",
       "ExterQual_Gd             7.356325e-03\n",
       "GarageQual_TA            6.661664e-03\n",
       "KitchenQual_Gd           6.645750e-03\n",
       "BldgType_1Fam            6.616582e-03\n",
       "Functional_Mod           6.352918e-03\n",
       "GarageArea               6.180365e-03\n",
       "BsmtFinSF1               5.946617e-03\n",
       "MSZoning_RL              5.805476e-03\n",
       "GarageCond_Po            4.936105e-03\n",
       "SaleType_CWD             4.711319e-03\n",
       "Neighborhood_Somerst     4.655666e-03\n",
       "PavedDrive_N             4.574802e-03\n",
       "LandSlope_Sev            4.556494e-03\n",
       "SaleType_Oth             4.461356e-03\n",
       "SaleType_ConLI           4.155444e-03\n",
       "MasVnrType_BrkCmn        4.111249e-03\n",
       "TotalBsmtSF              3.759822e-03\n",
       "Condition1_Artery        3.717187e-03\n",
       "GarageType_Attchd        3.711972e-03\n",
       "Neighborhood_Sawyer      3.613855e-03\n",
       "1stFlrSF                 3.566472e-03\n",
       "BldgType_Duplex          3.491983e-03\n",
       "Neighborhood_MeadowV     3.423682e-03\n",
       "BsmtQual_TA              3.404953e-03\n",
       "BsmtQual_None            3.112603e-03\n",
       "LotConfig_FR3            3.084839e-03\n",
       "Neighborhood_Blmngtn     3.033963e-03\n",
       "GarageType_CarPort       2.944592e-03\n",
       "Electrical_SBrkr         2.888895e-03\n",
       "LandContour_Low          2.763355e-03\n",
       "GarageType_Detchd        2.744198e-03\n",
       "BsmtExposure_Gd          2.696866e-03\n",
       "GarageFinish_Fin         2.677298e-03\n",
       "Neighborhood_NWAmes      2.661660e-03\n",
       "GarageType_None          2.623894e-03\n",
       "BsmtFinType1_GLQ         2.560255e-03\n",
       "BsmtCond_Fa              2.541117e-03\n",
       "Electrical_Mix           2.461784e-03\n",
       "SaleType_New             2.315004e-03\n",
       "Condition1_RRAe          2.215006e-03\n",
       "LotShape_Reg             2.162993e-03\n",
       "MSZoning_RM              2.135463e-03\n",
       "Functional_Typ           2.127813e-03\n",
       "Neighborhood_OldTown     1.846770e-03\n",
       "LotShape_IR2             1.805902e-03\n",
       "Fence_MnWw               1.747568e-03\n",
       "Foundation_PConc         1.669404e-03\n",
       "Exterior1st_BrkFace      1.668773e-03\n",
       "Exterior2nd_Stucco       1.646888e-03\n",
       "2ndFlrSF                 1.646160e-03\n",
       "BsmtFinType2_LwQ         1.629438e-03\n",
       "Neighborhood_SawyerW     1.577278e-03\n",
       "GarageCond_Fa            1.559698e-03\n",
       "Fence_GdPrv              1.438233e-03\n",
       "Exterior1st_AsbShng      1.430127e-03\n",
       "BsmtFinType1_Rec         1.414398e-03\n",
       "BsmtQual_Gd              1.407913e-03\n",
       "Neighborhood_Mitchel     1.395804e-03\n",
       "SaleCondition_Abnorml    1.351249e-03\n",
       "Foundation_BrkTil        1.345384e-03\n",
       "HeatingQC_Fa             1.338787e-03\n",
       "Neighborhood_Edwards     1.139650e-03\n",
       "Exterior1st_CemntBd      1.093885e-03\n",
       "Exterior1st_Stucco       1.086570e-03\n",
       "Neighborhood_BrkSide     1.086552e-03\n",
       "FireplaceQu_Fa           1.054998e-03\n",
       "Condition1_PosN          1.036700e-03\n",
       "KitchenQual_Fa           1.032609e-03\n",
       "MasVnrType_None          1.013217e-03\n",
       "BsmtExposure_None        1.004823e-03\n",
       "GarageFinish_Unf         1.000281e-03\n",
       "RoofStyle_Hip            9.763961e-04\n",
       "MasVnrType_BrkFace       9.595277e-04\n",
       "ExterCond_Ex             9.560924e-04\n",
       "MasVnrType_Stone         9.467209e-04\n",
       "Condition1_Norm          9.275358e-04\n",
       "BldgType_2fmCon          9.251456e-04\n",
       "GarageQual_Fa            8.588728e-04\n",
       "Neighborhood_CollgCr     8.504084e-04\n",
       "Electrical_FuseF         8.341672e-04\n",
       "HouseStyle_1Story        8.297967e-04\n",
       "SaleType_WD              8.110129e-04\n",
       "BsmtExposure_No          8.019549e-04\n",
       "SaleCondition_Partial    8.018959e-04\n",
       "ExterCond_TA             7.749481e-04\n",
       "GarageType_BuiltIn       7.625260e-04\n",
       "LandContour_HLS          7.339651e-04\n",
       "MSZoning_FV              7.114303e-04\n",
       "OpenPorchSF              6.970115e-04\n",
       "Remod_Age                6.945922e-04\n",
       "WoodDeckSF               6.733438e-04\n",
       "SaleType_COD             6.651015e-04\n",
       "LotArea                  6.512605e-04\n",
       "FireplaceQu_Gd           6.326172e-04\n",
       "BsmtCond_TA              6.302690e-04\n",
       "Fence_MnPrv              6.094137e-04\n",
       "HeatingQC_Ex             5.865140e-04\n",
       "HouseStyle_SLvl          5.841330e-04\n",
       "LotConfig_FR2            5.767682e-04\n",
       "LotConfig_CulDSac        5.762681e-04\n",
       "BsmtUnfSF                5.695614e-04\n",
       "Neighborhood_ClearCr     5.501054e-04\n",
       "MSZoning_RH              5.461552e-04\n",
       "Condition1_RRAn          5.305752e-04\n",
       "Alley_Pave               5.276326e-04\n",
       "KitchenQual_TA           5.242146e-04\n",
       "BsmtFinType1_BLQ         5.226911e-04\n",
       "HouseStyle_SFoyer        5.182766e-04\n",
       "BsmtFinType1_LwQ         5.122242e-04\n",
       "BsmtFinType1_ALQ         5.037498e-04\n",
       "LotConfig_Inside         5.010789e-04\n",
       "HeatingQC_TA             5.007884e-04\n",
       "Neighborhood_Timber      4.943997e-04\n",
       "Exterior2nd_Wd Sdng      4.891703e-04\n",
       "Exterior1st_VinylSd      4.850864e-04\n",
       "Garage_Age               4.802487e-04\n",
       "HouseStyle_1.5Fin        4.775065e-04\n",
       "ExterCond_Gd             4.480203e-04\n",
       "Alley_Grvl               4.456917e-04\n",
       "Exterior2nd_Brk Cmn      4.380311e-04\n",
       "HouseStyle_2Story        4.346247e-04\n",
       "RoofStyle_Gable          4.323746e-04\n",
       "Condition1_Feedr         4.266032e-04\n",
       "Exterior1st_Wd Sdng      4.210165e-04\n",
       "Alley_None               4.165575e-04\n",
       "LotConfig_Corner         3.779760e-04\n",
       "PavedDrive_Y             3.703255e-04\n",
       "SaleCondition_Normal     3.669949e-04\n",
       "PavedDrive_P             3.617192e-04\n",
       "Exterior1st_HdBoard      3.460128e-04\n",
       "BsmtFinType2_Unf         3.436359e-04\n",
       "SaleCondition_Family     3.420382e-04\n",
       "LotShape_IR1             3.416290e-04\n",
       "BsmtExposure_Av          3.240057e-04\n",
       "LandContour_Bnk          3.134537e-04\n",
       "SaleType_ConLD           3.111436e-04\n",
       "FireplaceQu_TA           3.047299e-04\n",
       "Neighborhood_IDOTRR      3.036750e-04\n",
       "Exterior1st_WdShing      2.895505e-04\n",
       "SaleCondition_Alloca     2.871671e-04\n",
       "Exterior1st_Plywood      2.798366e-04\n",
       "Neighborhood_NridgHt     2.783824e-04\n",
       "Exterior2nd_AsbShng      2.665900e-04\n",
       "Neighborhood_NAmes       2.645159e-04\n",
       "BsmtExposure_Mn          2.599323e-04\n",
       "Electrical_FuseA         2.517561e-04\n",
       "Fence_GdWo               2.498642e-04\n",
       "BsmtCond_Gd              2.491510e-04\n",
       "Exterior2nd_MetalSd      2.453734e-04\n",
       "MasVnrArea               2.452055e-04\n",
       "LandContour_Lvl          2.444161e-04\n",
       "GarageFinish_RFn         2.391182e-04\n",
       "ExterCond_Fa             2.308337e-04\n",
       "BsmtFinType2_BLQ         2.270135e-04\n",
       "Foundation_Slab          2.217215e-04\n",
       "FireplaceQu_Ex           2.183298e-04\n",
       "BsmtQual_Fa              2.170876e-04\n",
       "RoofStyle_Flat           2.150128e-04\n",
       "Exterior2nd_Plywood      2.146882e-04\n",
       "MiscVal                  2.087508e-04\n",
       "Exterior2nd_HdBoard      1.994110e-04\n",
       "Heating_GasA             1.924223e-04\n",
       "FireplaceQu_Po           1.918760e-04\n",
       "LotFrontage              1.809886e-04\n",
       "Neighborhood_Gilbert     1.803241e-04\n",
       "BldgType_TwnhsE          1.587110e-04\n",
       "GarageQual_Gd            1.571047e-04\n",
       "Neighborhood_NPkVill     1.549542e-04\n",
       "HeatingQC_Gd             1.542500e-04\n",
       "Exterior1st_MetalSd      1.536894e-04\n",
       "Foundation_CBlock        1.510105e-04\n",
       "Neighborhood_StoneBr     1.386296e-04\n",
       "Functional_Maj1          1.298659e-04\n",
       "GarageType_Basment       1.196296e-04\n",
       "Exterior2nd_ImStucc      1.107099e-04\n",
       "Exterior2nd_VinylSd      1.094492e-04\n",
       "Neighborhood_NoRidge     1.065964e-04\n",
       "BsmtFinType2_Rec         1.017690e-04\n",
       "HouseStyle_2.5Unf        9.914947e-05\n",
       "SaleType_ConLw           9.833831e-05\n",
       "Fence_None               9.119774e-05\n",
       "Exterior2nd_Stone        8.999246e-05\n",
       "LandSlope_Gtl            7.837154e-05\n",
       "Functional_Min1          7.005515e-05\n",
       "Neighborhood_Veenker     6.882963e-05\n",
       "RoofStyle_Mansard        5.851262e-05\n",
       "BsmtFinType1_Unf         5.601838e-05\n",
       "Exterior2nd_Wd Shng      5.401306e-05\n",
       "Neighborhood_SWISU       3.563508e-05\n",
       "HouseStyle_1.5Unf        1.664862e-05\n",
       "Exterior2nd_CmentBd      1.484797e-05\n",
       "BldgType_Twnhs           7.731415e-06\n",
       "Functional_Min2          7.698979e-06\n",
       "Neighborhood_BrDale      7.109425e-06\n",
       "GarageQual_Ex            6.513769e-06\n",
       "LandSlope_Mod            5.508247e-06\n",
       "MiscFeature_Shed         4.625447e-06\n",
       "SaleCondition_AdjLand    2.995048e-06\n",
       "Exterior2nd_BrkFace      1.471550e-06\n",
       "Heating_Wall             9.894293e-07\n",
       "RoofStyle_Gambrel        6.956936e-07\n",
       "BsmtFinType2_ALQ         1.294456e-07\n",
       "Condition1_RRNe          1.072614e-07\n",
       "GarageFinish_None        5.151866e-08\n",
       "Heating_GasW             2.620882e-08\n",
       "BsmtFinType2_GLQ         1.487428e-08\n",
       "MiscFeature_None         4.458150e-09\n",
       "CentralAir_Y             4.353886e-09\n",
       "BsmtCond_None            1.570791e-09\n",
       "Exterior2nd_CBlock       0.000000e+00\n",
       "Condition1_PosA          0.000000e+00\n",
       "BsmtCond_Po              0.000000e+00\n",
       "Foundation_Wood          0.000000e+00\n",
       "Foundation_Stone         0.000000e+00\n",
       "GarageCond_Ex            0.000000e+00\n",
       "BsmtFinType1_None        0.000000e+00\n",
       "GarageCond_None          0.000000e+00\n",
       "Electrical_FuseP         0.000000e+00\n",
       "SaleType_Con             0.000000e+00\n",
       "RoofStyle_Shed           0.000000e+00\n",
       "BsmtFinType2_None        0.000000e+00\n",
       "Exterior2nd_AsphShn      0.000000e+00\n",
       "Exterior1st_AsphShn      0.000000e+00\n",
       "Exterior1st_CBlock       0.000000e+00\n",
       "Exterior1st_ImStucc      0.000000e+00\n",
       "Heating_Floor            0.000000e+00\n",
       "GarageQual_None          0.000000e+00\n",
       "GarageCond_Gd            0.000000e+00\n",
       "Neighborhood_Blueste     0.000000e+00\n",
       "Exterior2nd_Other        0.000000e+00\n",
       "GarageQual_Po            0.000000e+00\n",
       "Condition1_RRNn          0.000000e+00\n",
       "dtype: float32"
      ]
     },
     "execution_count": 35,
     "metadata": {},
     "output_type": "execute_result"
    }
   ],
   "source": [
    "from xgboost import XGBRegressor\n",
    "from xgboost import plot_importance\n",
    "\n",
    "# fit model to training data\n",
    "xgb_model = XGBRegressor(n_estimators=1000, max_depth=7, eta=0.1, subsample=0.7, colsample_bytree=0.8)\n",
    "xgb_model.fit(X_train, y_train)\n",
    "\n",
    "pd.Series(xgb_model.feature_importances_, index=X_train.columns).sort_values(ascending=False)"
   ]
  },
  {
   "cell_type": "code",
   "execution_count": 36,
   "metadata": {
    "scrolled": true
   },
   "outputs": [
    {
     "data": {
      "text/plain": [
       "<Figure size 7200x21600 with 0 Axes>"
      ]
     },
     "metadata": {},
     "output_type": "display_data"
    },
    {
     "data": {
      "image/png": "[encoded data removed]",
      "text/plain": [
       "<Figure size 432x288 with 1 Axes>"
      ]
     },
     "metadata": {
      "needs_background": "light"
     },
     "output_type": "display_data"
    }
   ],
   "source": [
    "# plot feature importance\n",
    "plt.figure(figsize=(100,300))\n",
    "plot_importance(xgb_model)\n",
    "plt.show()"
   ]
  },
  {
   "cell_type": "markdown",
   "metadata": {},
   "source": [
    "### d. Bortua"
   ]
  },
  {
   "cell_type": "markdown",
   "metadata": {},
   "source": [
    "Finally we will try Bortua for feature selection and see if there are any features that consistently appear in the top performers across all methods we've tried so far."
   ]
  },
  {
   "cell_type": "code",
   "execution_count": 37,
   "metadata": {},
   "outputs": [],
   "source": [
    "rcf = RandomForestRegressor()\n",
    "rcf.fit(X_train, y_train)\n",
    "\n",
    "base_score = rcf.score(X_test, y_test)"
   ]
  },
  {
   "cell_type": "code",
   "execution_count": 39,
   "metadata": {
    "collapsed": true
   },
   "outputs": [
    {
     "name": "stdout",
     "output_type": "stream",
     "text": [
      "Iteration: \t1 / 100\n",
      "Confirmed: \t0\n",
      "Tentative: \t250\n",
      "Rejected: \t0\n",
      "Iteration: \t2 / 100\n",
      "Confirmed: \t0\n",
      "Tentative: \t250\n",
      "Rejected: \t0\n",
      "Iteration: \t3 / 100\n",
      "Confirmed: \t0\n",
      "Tentative: \t250\n",
      "Rejected: \t0\n",
      "Iteration: \t4 / 100\n",
      "Confirmed: \t0\n",
      "Tentative: \t250\n",
      "Rejected: \t0\n",
      "Iteration: \t5 / 100\n",
      "Confirmed: \t0\n",
      "Tentative: \t250\n",
      "Rejected: \t0\n",
      "Iteration: \t6 / 100\n",
      "Confirmed: \t0\n",
      "Tentative: \t250\n",
      "Rejected: \t0\n",
      "Iteration: \t7 / 100\n",
      "Confirmed: \t0\n",
      "Tentative: \t250\n",
      "Rejected: \t0\n",
      "Iteration: \t8 / 100\n",
      "Confirmed: \t0\n",
      "Tentative: \t20\n",
      "Rejected: \t230\n",
      "Iteration: \t9 / 100\n",
      "Confirmed: \t13\n",
      "Tentative: \t7\n",
      "Rejected: \t230\n",
      "Iteration: \t10 / 100\n",
      "Confirmed: \t13\n",
      "Tentative: \t7\n",
      "Rejected: \t230\n",
      "Iteration: \t11 / 100\n",
      "Confirmed: \t13\n",
      "Tentative: \t7\n",
      "Rejected: \t230\n",
      "Iteration: \t12 / 100\n",
      "Confirmed: \t13\n",
      "Tentative: \t7\n",
      "Rejected: \t230\n",
      "Iteration: \t13 / 100\n",
      "Confirmed: \t13\n",
      "Tentative: \t7\n",
      "Rejected: \t230\n",
      "Iteration: \t14 / 100\n",
      "Confirmed: \t13\n",
      "Tentative: \t7\n",
      "Rejected: \t230\n",
      "Iteration: \t15 / 100\n",
      "Confirmed: \t13\n",
      "Tentative: \t7\n",
      "Rejected: \t230\n",
      "Iteration: \t16 / 100\n",
      "Confirmed: \t13\n",
      "Tentative: \t7\n",
      "Rejected: \t230\n",
      "Iteration: \t17 / 100\n",
      "Confirmed: \t13\n",
      "Tentative: \t7\n",
      "Rejected: \t230\n",
      "Iteration: \t18 / 100\n",
      "Confirmed: \t13\n",
      "Tentative: \t7\n",
      "Rejected: \t230\n",
      "Iteration: \t19 / 100\n",
      "Confirmed: \t13\n",
      "Tentative: \t6\n",
      "Rejected: \t231\n",
      "Iteration: \t20 / 100\n",
      "Confirmed: \t13\n",
      "Tentative: \t6\n",
      "Rejected: \t231\n",
      "Iteration: \t21 / 100\n",
      "Confirmed: \t13\n",
      "Tentative: \t6\n",
      "Rejected: \t231\n",
      "Iteration: \t22 / 100\n",
      "Confirmed: \t13\n",
      "Tentative: \t5\n",
      "Rejected: \t232\n",
      "Iteration: \t23 / 100\n",
      "Confirmed: \t13\n",
      "Tentative: \t5\n",
      "Rejected: \t232\n",
      "Iteration: \t24 / 100\n",
      "Confirmed: \t13\n",
      "Tentative: \t5\n",
      "Rejected: \t232\n",
      "Iteration: \t25 / 100\n",
      "Confirmed: \t13\n",
      "Tentative: \t5\n",
      "Rejected: \t232\n",
      "Iteration: \t26 / 100\n",
      "Confirmed: \t13\n",
      "Tentative: \t5\n",
      "Rejected: \t232\n",
      "Iteration: \t27 / 100\n",
      "Confirmed: \t13\n",
      "Tentative: \t5\n",
      "Rejected: \t232\n",
      "Iteration: \t28 / 100\n",
      "Confirmed: \t13\n",
      "Tentative: \t5\n",
      "Rejected: \t232\n",
      "Iteration: \t29 / 100\n",
      "Confirmed: \t13\n",
      "Tentative: \t5\n",
      "Rejected: \t232\n",
      "Iteration: \t30 / 100\n",
      "Confirmed: \t13\n",
      "Tentative: \t5\n",
      "Rejected: \t232\n",
      "Iteration: \t31 / 100\n",
      "Confirmed: \t13\n",
      "Tentative: \t5\n",
      "Rejected: \t232\n",
      "Iteration: \t32 / 100\n",
      "Confirmed: \t13\n",
      "Tentative: \t5\n",
      "Rejected: \t232\n",
      "Iteration: \t33 / 100\n",
      "Confirmed: \t13\n",
      "Tentative: \t5\n",
      "Rejected: \t232\n",
      "Iteration: \t34 / 100\n",
      "Confirmed: \t13\n",
      "Tentative: \t5\n",
      "Rejected: \t232\n",
      "Iteration: \t35 / 100\n",
      "Confirmed: \t13\n",
      "Tentative: \t5\n",
      "Rejected: \t232\n",
      "Iteration: \t36 / 100\n",
      "Confirmed: \t13\n",
      "Tentative: \t5\n",
      "Rejected: \t232\n",
      "Iteration: \t37 / 100\n",
      "Confirmed: \t13\n",
      "Tentative: \t5\n",
      "Rejected: \t232\n",
      "Iteration: \t38 / 100\n",
      "Confirmed: \t13\n",
      "Tentative: \t5\n",
      "Rejected: \t232\n",
      "Iteration: \t39 / 100\n",
      "Confirmed: \t13\n",
      "Tentative: \t5\n",
      "Rejected: \t232\n",
      "Iteration: \t40 / 100\n",
      "Confirmed: \t13\n",
      "Tentative: \t5\n",
      "Rejected: \t232\n",
      "Iteration: \t41 / 100\n",
      "Confirmed: \t13\n",
      "Tentative: \t5\n",
      "Rejected: \t232\n",
      "Iteration: \t42 / 100\n",
      "Confirmed: \t13\n",
      "Tentative: \t5\n",
      "Rejected: \t232\n",
      "Iteration: \t43 / 100\n",
      "Confirmed: \t14\n",
      "Tentative: \t4\n",
      "Rejected: \t232\n",
      "Iteration: \t44 / 100\n",
      "Confirmed: \t14\n",
      "Tentative: \t4\n",
      "Rejected: \t232\n",
      "Iteration: \t45 / 100\n",
      "Confirmed: \t14\n",
      "Tentative: \t4\n",
      "Rejected: \t232\n",
      "Iteration: \t46 / 100\n",
      "Confirmed: \t14\n",
      "Tentative: \t4\n",
      "Rejected: \t232\n",
      "Iteration: \t47 / 100\n",
      "Confirmed: \t14\n",
      "Tentative: \t4\n",
      "Rejected: \t232\n",
      "Iteration: \t48 / 100\n",
      "Confirmed: \t14\n",
      "Tentative: \t4\n",
      "Rejected: \t232\n",
      "Iteration: \t49 / 100\n",
      "Confirmed: \t14\n",
      "Tentative: \t4\n",
      "Rejected: \t232\n",
      "Iteration: \t50 / 100\n",
      "Confirmed: \t14\n",
      "Tentative: \t4\n",
      "Rejected: \t232\n",
      "Iteration: \t51 / 100\n",
      "Confirmed: \t14\n",
      "Tentative: \t3\n",
      "Rejected: \t233\n",
      "Iteration: \t52 / 100\n",
      "Confirmed: \t14\n",
      "Tentative: \t3\n",
      "Rejected: \t233\n",
      "Iteration: \t53 / 100\n",
      "Confirmed: \t14\n",
      "Tentative: \t3\n",
      "Rejected: \t233\n",
      "Iteration: \t54 / 100\n",
      "Confirmed: \t14\n",
      "Tentative: \t3\n",
      "Rejected: \t233\n",
      "Iteration: \t55 / 100\n",
      "Confirmed: \t14\n",
      "Tentative: \t3\n",
      "Rejected: \t233\n",
      "Iteration: \t56 / 100\n",
      "Confirmed: \t14\n",
      "Tentative: \t3\n",
      "Rejected: \t233\n",
      "Iteration: \t57 / 100\n",
      "Confirmed: \t14\n",
      "Tentative: \t3\n",
      "Rejected: \t233\n",
      "Iteration: \t58 / 100\n",
      "Confirmed: \t14\n",
      "Tentative: \t3\n",
      "Rejected: \t233\n",
      "Iteration: \t59 / 100\n",
      "Confirmed: \t14\n",
      "Tentative: \t3\n",
      "Rejected: \t233\n",
      "Iteration: \t60 / 100\n",
      "Confirmed: \t14\n",
      "Tentative: \t3\n",
      "Rejected: \t233\n",
      "Iteration: \t61 / 100\n",
      "Confirmed: \t14\n",
      "Tentative: \t3\n",
      "Rejected: \t233\n",
      "Iteration: \t62 / 100\n",
      "Confirmed: \t14\n",
      "Tentative: \t3\n",
      "Rejected: \t233\n",
      "Iteration: \t63 / 100\n",
      "Confirmed: \t14\n",
      "Tentative: \t3\n",
      "Rejected: \t233\n",
      "Iteration: \t64 / 100\n",
      "Confirmed: \t14\n",
      "Tentative: \t3\n",
      "Rejected: \t233\n",
      "Iteration: \t65 / 100\n",
      "Confirmed: \t14\n",
      "Tentative: \t3\n",
      "Rejected: \t233\n",
      "Iteration: \t66 / 100\n",
      "Confirmed: \t14\n",
      "Tentative: \t3\n",
      "Rejected: \t233\n",
      "Iteration: \t67 / 100\n",
      "Confirmed: \t14\n",
      "Tentative: \t3\n",
      "Rejected: \t233\n",
      "Iteration: \t68 / 100\n",
      "Confirmed: \t14\n",
      "Tentative: \t3\n",
      "Rejected: \t233\n",
      "Iteration: \t69 / 100\n",
      "Confirmed: \t14\n",
      "Tentative: \t3\n",
      "Rejected: \t233\n",
      "Iteration: \t70 / 100\n",
      "Confirmed: \t14\n",
      "Tentative: \t3\n",
      "Rejected: \t233\n",
      "Iteration: \t71 / 100\n",
      "Confirmed: \t14\n",
      "Tentative: \t3\n",
      "Rejected: \t233\n",
      "Iteration: \t72 / 100\n",
      "Confirmed: \t14\n",
      "Tentative: \t3\n",
      "Rejected: \t233\n",
      "Iteration: \t73 / 100\n",
      "Confirmed: \t14\n",
      "Tentative: \t3\n",
      "Rejected: \t233\n",
      "Iteration: \t74 / 100\n",
      "Confirmed: \t14\n",
      "Tentative: \t3\n",
      "Rejected: \t233\n",
      "Iteration: \t75 / 100\n",
      "Confirmed: \t14\n",
      "Tentative: \t3\n",
      "Rejected: \t233\n",
      "Iteration: \t76 / 100\n",
      "Confirmed: \t14\n",
      "Tentative: \t3\n",
      "Rejected: \t233\n",
      "Iteration: \t77 / 100\n",
      "Confirmed: \t14\n",
      "Tentative: \t3\n",
      "Rejected: \t233\n",
      "Iteration: \t78 / 100\n",
      "Confirmed: \t14\n",
      "Tentative: \t3\n",
      "Rejected: \t233\n",
      "Iteration: \t79 / 100\n",
      "Confirmed: \t14\n",
      "Tentative: \t3\n",
      "Rejected: \t233\n",
      "Iteration: \t80 / 100\n",
      "Confirmed: \t14\n",
      "Tentative: \t3\n",
      "Rejected: \t233\n",
      "Iteration: \t81 / 100\n",
      "Confirmed: \t14\n",
      "Tentative: \t3\n",
      "Rejected: \t233\n",
      "Iteration: \t82 / 100\n",
      "Confirmed: \t14\n",
      "Tentative: \t3\n",
      "Rejected: \t233\n",
      "Iteration: \t83 / 100\n",
      "Confirmed: \t14\n",
      "Tentative: \t3\n",
      "Rejected: \t233\n",
      "Iteration: \t84 / 100\n",
      "Confirmed: \t14\n",
      "Tentative: \t3\n",
      "Rejected: \t233\n",
      "Iteration: \t85 / 100\n",
      "Confirmed: \t14\n",
      "Tentative: \t3\n",
      "Rejected: \t233\n",
      "Iteration: \t86 / 100\n",
      "Confirmed: \t14\n",
      "Tentative: \t3\n",
      "Rejected: \t233\n",
      "Iteration: \t87 / 100\n",
      "Confirmed: \t14\n",
      "Tentative: \t3\n",
      "Rejected: \t233\n",
      "Iteration: \t88 / 100\n",
      "Confirmed: \t14\n",
      "Tentative: \t3\n",
      "Rejected: \t233\n",
      "Iteration: \t89 / 100\n",
      "Confirmed: \t14\n",
      "Tentative: \t3\n",
      "Rejected: \t233\n",
      "Iteration: \t90 / 100\n",
      "Confirmed: \t14\n",
      "Tentative: \t3\n",
      "Rejected: \t233\n",
      "Iteration: \t91 / 100\n",
      "Confirmed: \t14\n",
      "Tentative: \t3\n",
      "Rejected: \t233\n",
      "Iteration: \t92 / 100\n",
      "Confirmed: \t14\n",
      "Tentative: \t3\n",
      "Rejected: \t233\n",
      "Iteration: \t93 / 100\n",
      "Confirmed: \t14\n",
      "Tentative: \t3\n",
      "Rejected: \t233\n",
      "Iteration: \t94 / 100\n",
      "Confirmed: \t14\n",
      "Tentative: \t3\n",
      "Rejected: \t233\n",
      "Iteration: \t95 / 100\n",
      "Confirmed: \t14\n",
      "Tentative: \t3\n",
      "Rejected: \t233\n",
      "Iteration: \t96 / 100\n",
      "Confirmed: \t14\n",
      "Tentative: \t3\n",
      "Rejected: \t233\n",
      "Iteration: \t97 / 100\n",
      "Confirmed: \t14\n",
      "Tentative: \t3\n",
      "Rejected: \t233\n",
      "Iteration: \t98 / 100\n",
      "Confirmed: \t14\n",
      "Tentative: \t3\n",
      "Rejected: \t233\n",
      "Iteration: \t99 / 100\n",
      "Confirmed: \t14\n",
      "Tentative: \t3\n",
      "Rejected: \t233\n",
      "\n",
      "\n",
      "BorutaPy finished running.\n",
      "\n",
      "Iteration: \t100 / 100\n",
      "Confirmed: \t14\n",
      "Tentative: \t0\n",
      "Rejected: \t233\n"
     ]
    },
    {
     "data": {
      "text/plain": [
       "BorutaPy(estimator=RandomForestRegressor(n_estimators=58,\n",
       "                                         random_state=RandomState(MT19937) at 0x1F6DDE73B40),\n",
       "         n_estimators='auto',\n",
       "         random_state=RandomState(MT19937) at 0x1F6DDE73B40, verbose=2)"
      ]
     },
     "execution_count": 39,
     "metadata": {},
     "output_type": "execute_result"
    }
   ],
   "source": [
    "boruta_selector = BorutaPy(rcf, n_estimators='auto', verbose = 2)\n",
    "\n",
    "X_train_boruta=X_train\n",
    "y_train_boruta=y_train\n",
    "boruta_selector.fit(np.array(X_train_boruta), np.array(y_train_boruta))"
   ]
  },
  {
   "cell_type": "code",
   "execution_count": 41,
   "metadata": {
    "scrolled": true
   },
   "outputs": [
    {
     "data": {
      "text/plain": [
       "GrLivArea                  1\n",
       "BsmtQual_Gd                1\n",
       "House_Age                  1\n",
       "BsmtQual_Ex                1\n",
       "GarageArea                 1\n",
       "KitchenQual_Ex             1\n",
       "2ndFlrSF                   1\n",
       "FireplaceQu_None           1\n",
       "TotalBsmtSF                1\n",
       "BsmtUnfSF                  1\n",
       "BsmtFinSF1                 1\n",
       "ExterQual_TA               1\n",
       "LotArea                    1\n",
       "1stFlrSF                   1\n",
       "OpenPorchSF                2\n",
       "Garage_Age                 2\n",
       "WoodDeckSF                 4\n",
       "Neighborhood_Crawfor       4\n",
       "LotFrontage                5\n",
       "ExterQual_Gd               6\n",
       "MasVnrArea                 7\n",
       "CentralAir_N               8\n",
       "CentralAir_Y               9\n",
       "GarageType_Detchd         10\n",
       "ExterQual_Ex              12\n",
       "Remod_Age                 12\n",
       "GarageType_Attchd         13\n",
       "BldgType_1Fam             14\n",
       "BsmtFinType1_GLQ          15\n",
       "GarageQual_TA             17\n",
       "KitchenQual_Gd            17\n",
       "Neighborhood_NridgHt      18\n",
       "GarageCond_TA             19\n",
       "ExterCond_Fa              20\n",
       "MSZoning_RL               21\n",
       "BsmtExposure_Gd           22\n",
       "GarageFinish_Fin          23\n",
       "LotShape_Reg              25\n",
       "MSZoning_RM               25\n",
       "FireplaceQu_TA            27\n",
       "SaleCondition_Abnorml     27\n",
       "Exterior1st_BrkFace       28\n",
       "Neighborhood_Somerst      29\n",
       "GarageFinish_Unf          31\n",
       "SaleCondition_Partial     31\n",
       "PavedDrive_N              32\n",
       "BsmtCond_TA               33\n",
       "Neighborhood_Edwards      34\n",
       "Functional_Typ            35\n",
       "FireplaceQu_Gd            36\n",
       "GarageFinish_RFn          37\n",
       "SaleType_New              38\n",
       "Neighborhood_NWAmes       39\n",
       "MSZoning_C (all)          40\n",
       "BsmtExposure_No           41\n",
       "SaleType_WD               42\n",
       "KitchenQual_TA            43\n",
       "LotShape_IR1              44\n",
       "Functional_Maj1           45\n",
       "Exterior1st_VinylSd       46\n",
       "MasVnrType_Stone          47\n",
       "SaleCondition_Normal      48\n",
       "PavedDrive_Y              49\n",
       "BsmtQual_TA               51\n",
       "HeatingQC_Ex              51\n",
       "HeatingQC_Fa              52\n",
       "Exterior2nd_VinylSd       53\n",
       "BsmtFinType1_ALQ          54\n",
       "Exterior2nd_CmentBd       55\n",
       "Neighborhood_CollgCr      56\n",
       "ExterQual_Fa              57\n",
       "RoofStyle_Gable           58\n",
       "ExterCond_TA              59\n",
       "LandSlope_Gtl             60\n",
       "HeatingQC_TA              61\n",
       "Exterior1st_CemntBd       63\n",
       "RoofStyle_Hip             63\n",
       "LotConfig_Corner          65\n",
       "Neighborhood_Mitchel      65\n",
       "HouseStyle_1.5Fin         66\n",
       "BsmtCond_Fa               67\n",
       "RoofStyle_Gambrel         69\n",
       "Neighborhood_Gilbert      69\n",
       "BsmtFinType1_Unf          71\n",
       "MasVnrType_None           71\n",
       "LotConfig_CulDSac         73\n",
       "LotConfig_Inside          73\n",
       "MasVnrType_BrkFace        75\n",
       "LandContour_Lvl           75\n",
       "Foundation_PConc          77\n",
       "HouseStyle_2Story         77\n",
       "Condition1_Norm           78\n",
       "Fence_None                79\n",
       "HouseStyle_1Story         80\n",
       "BsmtExposure_Av           81\n",
       "Neighborhood_OldTown      82\n",
       "Exterior2nd_Stucco        83\n",
       "GarageQual_Fa             85\n",
       "RoofStyle_Shed            85\n",
       "MSZoning_FV               87\n",
       "Condition1_Artery         87\n",
       "Neighborhood_NAmes        88\n",
       "Electrical_SBrkr          89\n",
       "BldgType_TwnhsE           90\n",
       "Exterior1st_BrkComm       91\n",
       "Foundation_CBlock         93\n",
       "Neighborhood_MeadowV      93\n",
       "Functional_Mod            93\n",
       "Exterior1st_MetalSd       95\n",
       "Neighborhood_ClearCr      97\n",
       "LandSlope_Mod             97\n",
       "Exterior2nd_Wd Sdng       98\n",
       "BsmtQual_Fa               99\n",
       "Exterior1st_Wd Sdng      100\n",
       "Exterior2nd_MetalSd      101\n",
       "BsmtExposure_Mn          102\n",
       "BsmtFinType1_BLQ         103\n",
       "ExterCond_Gd             105\n",
       "HeatingQC_Gd             105\n",
       "LandContour_HLS          106\n",
       "HouseStyle_SLvl          107\n",
       "Neighborhood_NoRidge     108\n",
       "Exterior2nd_Plywood      110\n",
       "Neighborhood_Sawyer      110\n",
       "BldgType_Duplex          111\n",
       "Exterior2nd_HdBoard      112\n",
       "Fence_MnPrv              114\n",
       "SaleType_CWD             114\n",
       "BsmtFinType1_Rec         116\n",
       "KitchenQual_Fa           116\n",
       "Foundation_BrkTil        116\n",
       "BsmtFinType2_Unf         118\n",
       "Exterior1st_HdBoard      119\n",
       "Exterior2nd_Brk Cmn      120\n",
       "MasVnrType_BrkCmn        121\n",
       "BsmtCond_Gd              122\n",
       "Exterior1st_Plywood      123\n",
       "Alley_Pave               124\n",
       "Electrical_FuseA         126\n",
       "GarageCond_None          126\n",
       "Neighborhood_IDOTRR      127\n",
       "GarageCond_Fa            128\n",
       "GarageFinish_None        129\n",
       "LandContour_Low          130\n",
       "GarageQual_None          132\n",
       "Neighborhood_SawyerW     132\n",
       "GarageType_None          133\n",
       "Neighborhood_BrkSide     134\n",
       "Condition1_Feedr         135\n",
       "LandContour_Bnk          136\n",
       "Fence_GdPrv              137\n",
       "Functional_Min2          138\n",
       "BsmtFinType2_LwQ         139\n",
       "BldgType_2fmCon          140\n",
       "LotConfig_FR2            141\n",
       "GarageType_BuiltIn       144\n",
       "Alley_None               144\n",
       "Neighborhood_Timber      144\n",
       "BldgType_Twnhs           144\n",
       "GarageQual_Gd            146\n",
       "Exterior2nd_BrkFace      147\n",
       "SaleType_COD             149\n",
       "Functional_Maj2          149\n",
       "Electrical_FuseF         150\n",
       "Fence_GdWo               151\n",
       "LandSlope_Sev            152\n",
       "Neighborhood_StoneBr     154\n",
       "Heating_GasA             154\n",
       "FireplaceQu_Ex           155\n",
       "PavedDrive_P             156\n",
       "BsmtFinType1_LwQ         157\n",
       "Condition1_RRAe          158\n",
       "Alley_Grvl               160\n",
       "GarageType_CarPort       160\n",
       "BsmtExposure_None        162\n",
       "Exterior1st_Stucco       162\n",
       "BsmtQual_None            163\n",
       "FireplaceQu_Fa           164\n",
       "Heating_Grav             165\n",
       "MSZoning_RH              166\n",
       "Exterior2nd_AsbShng      167\n",
       "BsmtFinType2_None        168\n",
       "SaleCondition_Family     169\n",
       "BsmtCond_None            170\n",
       "Exterior1st_AsbShng      171\n",
       "BsmtFinType1_None        172\n",
       "Exterior1st_WdShing      173\n",
       "BsmtFinType2_BLQ         174\n",
       "GarageType_Basment       176\n",
       "Condition1_RRAn          176\n",
       "HouseStyle_SFoyer        177\n",
       "Neighborhood_SWISU       178\n",
       "BsmtFinType2_Rec         179\n",
       "LotShape_IR2             180\n",
       "Heating_GasW             181\n",
       "Neighborhood_Veenker     182\n",
       "MiscVal                  183\n",
       "Foundation_Slab          184\n",
       "SaleCondition_Alloca     185\n",
       "Condition1_PosA          187\n",
       "Neighborhood_Blmngtn     187\n",
       "Exterior2nd_ImStucc      188\n",
       "SaleType_ConLw           190\n",
       "Functional_Min1          190\n",
       "Exterior2nd_Wd Shng      191\n",
       "MiscFeature_Shed         192\n",
       "MiscFeature_None         193\n",
       "SaleType_Oth             194\n",
       "SaleType_Con             195\n",
       "Exterior1st_ImStucc      196\n",
       "Condition1_PosN          197\n",
       "Neighborhood_BrDale      199\n",
       "SaleType_ConLD           199\n",
       "Exterior2nd_AsphShn      200\n",
       "FireplaceQu_Po           201\n",
       "Neighborhood_NPkVill     202\n",
       "Condition1_RRNn          203\n",
       "Exterior2nd_Stone        205\n",
       "HouseStyle_1.5Unf        205\n",
       "LotConfig_FR3            205\n",
       "SaleType_ConLI           207\n",
       "LotShape_IR3             208\n",
       "GarageCond_Po            210\n",
       "Fence_MnWw               210\n",
       "Electrical_FuseP         212\n",
       "SaleCondition_AdjLand    212\n",
       "BsmtFinType2_ALQ         213\n",
       "Foundation_Wood          215\n",
       "HouseStyle_2.5Unf        215\n",
       "Exterior1st_AsphShn      217\n",
       "GarageType_2Types        217\n",
       "Electrical_Mix           218\n",
       "Exterior1st_CBlock       219\n",
       "GarageQual_Po            220\n",
       "ExterCond_Po             222\n",
       "GarageCond_Gd            222\n",
       "RoofStyle_Mansard        222\n",
       "RoofStyle_Flat           224\n",
       "BsmtCond_Po              225\n",
       "BsmtFinType2_GLQ         226\n",
       "Heating_Wall             228\n",
       "Exterior2nd_Other        228\n",
       "Foundation_Stone         229\n",
       "Exterior2nd_CBlock       230\n",
       "GarageQual_Ex            232\n",
       "Neighborhood_Blueste     232\n",
       "GarageCond_Ex            233\n",
       "ExterCond_Ex             234\n",
       "Heating_Floor            235\n",
       "Condition1_RRNe          236\n",
       "dtype: int32"
      ]
     },
     "execution_count": 41,
     "metadata": {},
     "output_type": "execute_result"
    }
   ],
   "source": [
    "pd.Series(boruta_selector.ranking_, index=X_train.columns).sort_values(ascending=True)"
   ]
  },
  {
   "cell_type": "code",
   "execution_count": 42,
   "metadata": {},
   "outputs": [
    {
     "name": "stdout",
     "output_type": "stream",
     "text": [
      "Your model accuracy has been affect by -6.05047793165352 percent\n"
     ]
    }
   ],
   "source": [
    "X_train = boruta_selector.transform(np.array(X_train))\n",
    "X_test = boruta_selector.transform(np.array(X_test))\n",
    "\n",
    "rcf = XGBRegressor()\n",
    "rcf.fit(X_train, y_train)\n",
    "\n",
    "new_score = rcf.score(X_test, y_test)\n",
    "\n",
    "change = (new_score -base_score)*100/base_score\n",
    "print(f'Your model accuracy has been affect by {change} percent')"
   ]
  },
  {
   "cell_type": "markdown",
   "metadata": {},
   "source": [
    "#### Based on our feature selection models, we compared the features that consistently appeared in the top 20 in terms of feature importance. The final 10 features we have selected to use in our model moving forward are as follows:\n",
    "- GrLiveArea\n",
    "- House_Age\n",
    "- Garage_Age\n",
    "- TotalBsmtSF\n",
    "- LotArea\n",
    "- ExterQual_TA\n",
    "- BsmtQual_Ex\n",
    "- KitchenQual_Ex\n",
    "- OpenPorchSF\n",
    "- FirepalceQu_None\n",
    "\n",
    "Some features were left out due to redundancy, such as 1st and 2nd floor square footage, because GrLiveArea encompasses both of these. Also it is interesting to note that whether or not the house has a fireplace is more important than the quality, makes sense, and that excellent quality kitchens and basements is more important than exterior quality. "
   ]
  },
  {
   "cell_type": "code",
   "execution_count": 48,
   "metadata": {
    "scrolled": true
   },
   "outputs": [
    {
     "data": {
      "text/html": [
       "<div>\n",
       "<style scoped>\n",
       "    .dataframe tbody tr th:only-of-type {\n",
       "        vertical-align: middle;\n",
       "    }\n",
       "\n",
       "    .dataframe tbody tr th {\n",
       "        vertical-align: top;\n",
       "    }\n",
       "\n",
       "    .dataframe thead th {\n",
       "        text-align: right;\n",
       "    }\n",
       "</style>\n",
       "<table border=\"1\" class=\"dataframe\">\n",
       "  <thead>\n",
       "    <tr style=\"text-align: right;\">\n",
       "      <th></th>\n",
       "      <th>SalePrice</th>\n",
       "      <th>GrLivArea</th>\n",
       "      <th>House_Age</th>\n",
       "      <th>Garage_Age</th>\n",
       "      <th>TotalBsmtSF</th>\n",
       "      <th>LotArea</th>\n",
       "      <th>ExterQual_TA</th>\n",
       "      <th>BsmtQual_Ex</th>\n",
       "      <th>KitchenQual_Ex</th>\n",
       "      <th>OpenPorchSF</th>\n",
       "      <th>FireplaceQu_None</th>\n",
       "    </tr>\n",
       "  </thead>\n",
       "  <tbody>\n",
       "    <tr>\n",
       "      <th>0</th>\n",
       "      <td>208500</td>\n",
       "      <td>1710</td>\n",
       "      <td>18</td>\n",
       "      <td>18.0</td>\n",
       "      <td>856</td>\n",
       "      <td>8450</td>\n",
       "      <td>0</td>\n",
       "      <td>0</td>\n",
       "      <td>0</td>\n",
       "      <td>61</td>\n",
       "      <td>1</td>\n",
       "    </tr>\n",
       "    <tr>\n",
       "      <th>1</th>\n",
       "      <td>181500</td>\n",
       "      <td>1262</td>\n",
       "      <td>45</td>\n",
       "      <td>45.0</td>\n",
       "      <td>1262</td>\n",
       "      <td>9600</td>\n",
       "      <td>1</td>\n",
       "      <td>0</td>\n",
       "      <td>0</td>\n",
       "      <td>0</td>\n",
       "      <td>0</td>\n",
       "    </tr>\n",
       "    <tr>\n",
       "      <th>2</th>\n",
       "      <td>223500</td>\n",
       "      <td>1786</td>\n",
       "      <td>20</td>\n",
       "      <td>20.0</td>\n",
       "      <td>920</td>\n",
       "      <td>11250</td>\n",
       "      <td>0</td>\n",
       "      <td>0</td>\n",
       "      <td>0</td>\n",
       "      <td>42</td>\n",
       "      <td>0</td>\n",
       "    </tr>\n",
       "    <tr>\n",
       "      <th>3</th>\n",
       "      <td>250000</td>\n",
       "      <td>2198</td>\n",
       "      <td>21</td>\n",
       "      <td>21.0</td>\n",
       "      <td>1145</td>\n",
       "      <td>14260</td>\n",
       "      <td>0</td>\n",
       "      <td>0</td>\n",
       "      <td>0</td>\n",
       "      <td>84</td>\n",
       "      <td>0</td>\n",
       "    </tr>\n",
       "    <tr>\n",
       "      <th>4</th>\n",
       "      <td>307000</td>\n",
       "      <td>1694</td>\n",
       "      <td>17</td>\n",
       "      <td>17.0</td>\n",
       "      <td>1686</td>\n",
       "      <td>10084</td>\n",
       "      <td>0</td>\n",
       "      <td>1</td>\n",
       "      <td>0</td>\n",
       "      <td>57</td>\n",
       "      <td>0</td>\n",
       "    </tr>\n",
       "  </tbody>\n",
       "</table>\n",
       "</div>"
      ],
      "text/plain": [
       "   SalePrice  GrLivArea  House_Age  Garage_Age  TotalBsmtSF  LotArea  \\\n",
       "0     208500       1710         18        18.0          856     8450   \n",
       "1     181500       1262         45        45.0         1262     9600   \n",
       "2     223500       1786         20        20.0          920    11250   \n",
       "3     250000       2198         21        21.0         1145    14260   \n",
       "4     307000       1694         17        17.0         1686    10084   \n",
       "\n",
       "   ExterQual_TA  BsmtQual_Ex  KitchenQual_Ex  OpenPorchSF  FireplaceQu_None  \n",
       "0             0            0               0           61                 1  \n",
       "1             1            0               0            0                 0  \n",
       "2             0            0               0           42                 0  \n",
       "3             0            0               0           84                 0  \n",
       "4             0            1               0           57                 0  "
      ]
     },
     "execution_count": 48,
     "metadata": {},
     "output_type": "execute_result"
    }
   ],
   "source": [
    "#Recreate our dataframe using only the selected features and re-split into train and test sets\n",
    "df = df[['SalePrice','GrLivArea','House_Age','Garage_Age','TotalBsmtSF','LotArea','ExterQual_TA','BsmtQual_Ex','KitchenQual_Ex','OpenPorchSF','FireplaceQu_None']]\n",
    "df.head()"
   ]
  },
  {
   "cell_type": "code",
   "execution_count": 49,
   "metadata": {},
   "outputs": [],
   "source": [
    "y=df['SalePrice'].values\n",
    "X=df.drop('SalePrice', axis=1)\n",
    "\n",
    "X_train, X_test, y_train, y_test = train_test_split(X,y,test_size=0.2)"
   ]
  },
  {
   "cell_type": "code",
   "execution_count": 50,
   "metadata": {
    "scrolled": true
   },
   "outputs": [
    {
     "data": {
      "text/plain": [
       "((909, 10), (228, 10))"
      ]
     },
     "execution_count": 50,
     "metadata": {},
     "output_type": "execute_result"
    }
   ],
   "source": [
    "#verify their new shapes\n",
    "X_train.shape, X_test.shape"
   ]
  },
  {
   "cell_type": "code",
   "execution_count": 51,
   "metadata": {},
   "outputs": [
    {
     "data": {
      "text/plain": [
       "((909,), (228,))"
      ]
     },
     "execution_count": 51,
     "metadata": {},
     "output_type": "execute_result"
    }
   ],
   "source": [
    "y_train.shape, y_test.shape"
   ]
  },
  {
   "cell_type": "markdown",
   "metadata": {},
   "source": [
    "## 3. Model Selection"
   ]
  },
  {
   "cell_type": "markdown",
   "metadata": {},
   "source": [
    "### A. Evaluate performance of the mean"
   ]
  },
  {
   "cell_type": "markdown",
   "metadata": {},
   "source": [
    "#### We will first evaluate how well simply taking the mean does in predicting home value, this will give us a baseline to compare our models against."
   ]
  },
  {
   "cell_type": "code",
   "execution_count": 52,
   "metadata": {},
   "outputs": [
    {
     "data": {
      "text/plain": [
       "169478.5599559956"
      ]
     },
     "execution_count": 52,
     "metadata": {},
     "output_type": "execute_result"
    }
   ],
   "source": [
    "train_mean = y_train.mean()\n",
    "train_mean"
   ]
  },
  {
   "cell_type": "code",
   "execution_count": 53,
   "metadata": {},
   "outputs": [
    {
     "data": {
      "text/plain": [
       "array([[169478.559956]])"
      ]
     },
     "execution_count": 53,
     "metadata": {},
     "output_type": "execute_result"
    }
   ],
   "source": [
    "dumb_reg = DummyRegressor(strategy='mean')\n",
    "dumb_reg.fit(X_train, y_train)\n",
    "dumb_reg.constant_"
   ]
  },
  {
   "cell_type": "code",
   "execution_count": 54,
   "metadata": {},
   "outputs": [
    {
     "data": {
      "text/plain": [
       "array([169478.559956, 169478.559956, 169478.559956, 169478.559956,\n",
       "       169478.559956])"
      ]
     },
     "execution_count": 54,
     "metadata": {},
     "output_type": "execute_result"
    }
   ],
   "source": [
    "y_tr_pred = dumb_reg.predict(X_train)\n",
    "y_tr_pred[:5]"
   ]
  },
  {
   "cell_type": "code",
   "execution_count": 55,
   "metadata": {},
   "outputs": [
    {
     "data": {
      "text/plain": [
       "0.0"
      ]
     },
     "execution_count": 55,
     "metadata": {},
     "output_type": "execute_result"
    }
   ],
   "source": [
    "r2_score(y_train, y_tr_pred)"
   ]
  },
  {
   "cell_type": "code",
   "execution_count": 56,
   "metadata": {},
   "outputs": [
    {
     "data": {
      "text/plain": [
       "-1.4589143687571138e-05"
      ]
     },
     "execution_count": 56,
     "metadata": {},
     "output_type": "execute_result"
    }
   ],
   "source": [
    "y_te_pred = train_mean * np.ones(len(y_test))\n",
    "r2_score(y_test, y_te_pred)"
   ]
  },
  {
   "cell_type": "code",
   "execution_count": 57,
   "metadata": {
    "scrolled": true
   },
   "outputs": [
    {
     "data": {
      "text/plain": [
       "array([169478.559956, 169478.559956, 169478.559956, 169478.559956,\n",
       "       169478.559956, 169478.559956, 169478.559956, 169478.559956,\n",
       "       169478.559956, 169478.559956, 169478.559956, 169478.559956,\n",
       "       169478.559956, 169478.559956, 169478.559956, 169478.559956,\n",
       "       169478.559956, 169478.559956, 169478.559956, 169478.559956,\n",
       "       169478.559956, 169478.559956, 169478.559956, 169478.559956,\n",
       "       169478.559956, 169478.559956, 169478.559956, 169478.559956,\n",
       "       169478.559956, 169478.559956, 169478.559956, 169478.559956,\n",
       "       169478.559956, 169478.559956, 169478.559956, 169478.559956,\n",
       "       169478.559956, 169478.559956, 169478.559956, 169478.559956,\n",
       "       169478.559956, 169478.559956, 169478.559956, 169478.559956,\n",
       "       169478.559956, 169478.559956, 169478.559956, 169478.559956,\n",
       "       169478.559956, 169478.559956, 169478.559956, 169478.559956,\n",
       "       169478.559956, 169478.559956, 169478.559956, 169478.559956,\n",
       "       169478.559956, 169478.559956, 169478.559956, 169478.559956,\n",
       "       169478.559956, 169478.559956, 169478.559956, 169478.559956,\n",
       "       169478.559956, 169478.559956, 169478.559956, 169478.559956,\n",
       "       169478.559956, 169478.559956, 169478.559956, 169478.559956,\n",
       "       169478.559956, 169478.559956, 169478.559956, 169478.559956,\n",
       "       169478.559956, 169478.559956, 169478.559956, 169478.559956,\n",
       "       169478.559956, 169478.559956, 169478.559956, 169478.559956,\n",
       "       169478.559956, 169478.559956, 169478.559956, 169478.559956,\n",
       "       169478.559956, 169478.559956, 169478.559956, 169478.559956,\n",
       "       169478.559956, 169478.559956, 169478.559956, 169478.559956,\n",
       "       169478.559956, 169478.559956, 169478.559956, 169478.559956,\n",
       "       169478.559956, 169478.559956, 169478.559956, 169478.559956,\n",
       "       169478.559956, 169478.559956, 169478.559956, 169478.559956,\n",
       "       169478.559956, 169478.559956, 169478.559956, 169478.559956,\n",
       "       169478.559956, 169478.559956, 169478.559956, 169478.559956,\n",
       "       169478.559956, 169478.559956, 169478.559956, 169478.559956,\n",
       "       169478.559956, 169478.559956, 169478.559956, 169478.559956,\n",
       "       169478.559956, 169478.559956, 169478.559956, 169478.559956,\n",
       "       169478.559956, 169478.559956, 169478.559956, 169478.559956,\n",
       "       169478.559956, 169478.559956, 169478.559956, 169478.559956,\n",
       "       169478.559956, 169478.559956, 169478.559956, 169478.559956,\n",
       "       169478.559956, 169478.559956, 169478.559956, 169478.559956,\n",
       "       169478.559956, 169478.559956, 169478.559956, 169478.559956,\n",
       "       169478.559956, 169478.559956, 169478.559956, 169478.559956,\n",
       "       169478.559956, 169478.559956, 169478.559956, 169478.559956,\n",
       "       169478.559956, 169478.559956, 169478.559956, 169478.559956,\n",
       "       169478.559956, 169478.559956, 169478.559956, 169478.559956,\n",
       "       169478.559956, 169478.559956, 169478.559956, 169478.559956,\n",
       "       169478.559956, 169478.559956, 169478.559956, 169478.559956,\n",
       "       169478.559956, 169478.559956, 169478.559956, 169478.559956,\n",
       "       169478.559956, 169478.559956, 169478.559956, 169478.559956,\n",
       "       169478.559956, 169478.559956, 169478.559956, 169478.559956,\n",
       "       169478.559956, 169478.559956, 169478.559956, 169478.559956,\n",
       "       169478.559956, 169478.559956, 169478.559956, 169478.559956,\n",
       "       169478.559956, 169478.559956, 169478.559956, 169478.559956,\n",
       "       169478.559956, 169478.559956, 169478.559956, 169478.559956,\n",
       "       169478.559956, 169478.559956, 169478.559956, 169478.559956,\n",
       "       169478.559956, 169478.559956, 169478.559956, 169478.559956,\n",
       "       169478.559956, 169478.559956, 169478.559956, 169478.559956,\n",
       "       169478.559956, 169478.559956, 169478.559956, 169478.559956,\n",
       "       169478.559956, 169478.559956, 169478.559956, 169478.559956,\n",
       "       169478.559956, 169478.559956, 169478.559956, 169478.559956,\n",
       "       169478.559956, 169478.559956, 169478.559956, 169478.559956])"
      ]
     },
     "execution_count": 57,
     "metadata": {},
     "output_type": "execute_result"
    }
   ],
   "source": [
    "dumb_reg.predict(X_test)"
   ]
  },
  {
   "cell_type": "markdown",
   "metadata": {},
   "source": [
    "##### R^2"
   ]
  },
  {
   "cell_type": "code",
   "execution_count": 58,
   "metadata": {
    "scrolled": true
   },
   "outputs": [
    {
     "name": "stdout",
     "output_type": "stream",
     "text": [
      "-1.4589143687571138e-05\n"
     ]
    }
   ],
   "source": [
    "r_mean = dumb_reg.score(X_test, y_test)\n",
    "print(r_mean)"
   ]
  },
  {
   "cell_type": "markdown",
   "metadata": {},
   "source": [
    "##### MAE"
   ]
  },
  {
   "cell_type": "code",
   "execution_count": 59,
   "metadata": {
    "scrolled": true
   },
   "outputs": [
    {
     "data": {
      "text/plain": [
       "45471.53701291182"
      ]
     },
     "execution_count": 59,
     "metadata": {},
     "output_type": "execute_result"
    }
   ],
   "source": [
    "#MAE for dummy regression mean model\n",
    "mae_mean = mean_absolute_error(y_test, y_te_pred)\n",
    "mae_mean"
   ]
  },
  {
   "cell_type": "markdown",
   "metadata": {},
   "source": [
    "##### MSE"
   ]
  },
  {
   "cell_type": "code",
   "execution_count": 60,
   "metadata": {},
   "outputs": [
    {
     "data": {
      "text/plain": [
       "3608816328.6971273"
      ]
     },
     "execution_count": 60,
     "metadata": {},
     "output_type": "execute_result"
    }
   ],
   "source": [
    "#MSE for dummy regression mean model\n",
    "mse_mean = mean_squared_error(y_test, y_te_pred)\n",
    "mse_mean"
   ]
  },
  {
   "cell_type": "markdown",
   "metadata": {},
   "source": [
    "### B. Linear Regression Model"
   ]
  },
  {
   "cell_type": "code",
   "execution_count": 61,
   "metadata": {},
   "outputs": [],
   "source": [
    "#fit linear regression model and make prediction\n",
    "reg = LinearRegression()\n",
    "reg.fit(X_train,y_train)\n",
    "y_pred = reg.predict(X_test)"
   ]
  },
  {
   "cell_type": "code",
   "execution_count": 62,
   "metadata": {},
   "outputs": [
    {
     "data": {
      "text/plain": [
       "0.7849018954588608"
      ]
     },
     "execution_count": 62,
     "metadata": {},
     "output_type": "execute_result"
    }
   ],
   "source": [
    "#Print R^2\n",
    "r2_score(y_test, y_pred)"
   ]
  },
  {
   "cell_type": "code",
   "execution_count": 107,
   "metadata": {},
   "outputs": [
    {
     "data": {
      "text/plain": [
       "19779.89965087796"
      ]
     },
     "execution_count": 107,
     "metadata": {},
     "output_type": "execute_result"
    }
   ],
   "source": [
    "lr_mae = mean_absolute_error(y_test, y_pred)\n",
    "lr_mae"
   ]
  },
  {
   "cell_type": "code",
   "execution_count": 108,
   "metadata": {
    "scrolled": true
   },
   "outputs": [
    {
     "data": {
      "text/plain": [
       "776238227.2888312"
      ]
     },
     "execution_count": 108,
     "metadata": {},
     "output_type": "execute_result"
    }
   ],
   "source": [
    "lr_mse = mean_squared_error(y_test, y_pred)\n",
    "lr_mse"
   ]
  },
  {
   "cell_type": "code",
   "execution_count": 109,
   "metadata": {},
   "outputs": [
    {
     "data": {
      "text/plain": [
       "0.5650048150942999"
      ]
     },
     "execution_count": 109,
     "metadata": {},
     "output_type": "execute_result"
    }
   ],
   "source": [
    "(mae_mean-lr_mae)/mae_mean"
   ]
  },
  {
   "cell_type": "code",
   "execution_count": 110,
   "metadata": {},
   "outputs": [
    {
     "data": {
      "text/plain": [
       "0.7849050335102333"
      ]
     },
     "execution_count": 110,
     "metadata": {},
     "output_type": "execute_result"
    }
   ],
   "source": [
    "(mse_mean-lr_mse)/mse_mean"
   ]
  },
  {
   "cell_type": "markdown",
   "metadata": {},
   "source": [
    "Applying the basic lienar regression model has improved the prediction performance fairly significantly, MAE by 57% and MSE by 75% as we can see here."
   ]
  },
  {
   "cell_type": "markdown",
   "metadata": {},
   "source": [
    "#### Cross-Validation of linear model"
   ]
  },
  {
   "cell_type": "code",
   "execution_count": 67,
   "metadata": {},
   "outputs": [],
   "source": [
    "#Importing CV score module and computing 5 fold scores\n",
    "\n",
    "cv_scores = cross_val_score(reg, X, y, cv=5)"
   ]
  },
  {
   "cell_type": "code",
   "execution_count": 68,
   "metadata": {},
   "outputs": [
    {
     "name": "stdout",
     "output_type": "stream",
     "text": [
      "[0.82343818 0.8484645  0.8307415  0.83775143 0.81907739]\n",
      "Average 5-Fold CV Score: 0.831894597205627\n"
     ]
    }
   ],
   "source": [
    "#Printing CV scores and their mean\n",
    "print(cv_scores)\n",
    "\n",
    "print(\"Average 5-Fold CV Score: {}\".format(np.mean(cv_scores)))"
   ]
  },
  {
   "cell_type": "code",
   "execution_count": 69,
   "metadata": {
    "scrolled": false
   },
   "outputs": [
    {
     "data": {
      "text/plain": [
       "<matplotlib.collections.PathCollection at 0x1f6e3327580>"
      ]
     },
     "execution_count": 69,
     "metadata": {},
     "output_type": "execute_result"
    },
    {
     "data": {
      "image/png": "[encoded data removed]",
      "text/plain": [
       "<Figure size 432x288 with 1 Axes>"
      ]
     },
     "metadata": {
      "needs_background": "light"
     },
     "output_type": "display_data"
    }
   ],
   "source": [
    "plt.scatter(y_test, y_pred)"
   ]
  },
  {
   "cell_type": "markdown",
   "metadata": {},
   "source": [
    "### C. Random Forest Model"
   ]
  },
  {
   "cell_type": "markdown",
   "metadata": {},
   "source": [
    "#### Make Pipeline"
   ]
  },
  {
   "cell_type": "code",
   "execution_count": 70,
   "metadata": {},
   "outputs": [],
   "source": [
    "RF_pipe = make_pipeline(\n",
    "    StandardScaler(),\n",
    "    RandomForestRegressor()\n",
    ")"
   ]
  },
  {
   "cell_type": "markdown",
   "metadata": {},
   "source": [
    "#### Fit and assess using CV"
   ]
  },
  {
   "cell_type": "code",
   "execution_count": 71,
   "metadata": {},
   "outputs": [],
   "source": [
    "rf_default_cv_results = cross_validate(RF_pipe, X_train, y_train, cv=5)"
   ]
  },
  {
   "cell_type": "code",
   "execution_count": 83,
   "metadata": {},
   "outputs": [
    {
     "data": {
      "text/plain": [
       "array([0.853257  , 0.82382133, 0.84610147, 0.86693318, 0.87351366])"
      ]
     },
     "execution_count": 83,
     "metadata": {},
     "output_type": "execute_result"
    }
   ],
   "source": [
    "rf_cv_scores = rf_default_cv_results['test_score']\n",
    "rf_cv_scores"
   ]
  },
  {
   "cell_type": "code",
   "execution_count": 84,
   "metadata": {},
   "outputs": [
    {
     "data": {
      "text/plain": [
       "0.8527253280401729"
      ]
     },
     "execution_count": 84,
     "metadata": {},
     "output_type": "execute_result"
    }
   ],
   "source": [
    "np.mean(rf_cv_scores)"
   ]
  },
  {
   "cell_type": "code",
   "execution_count": 73,
   "metadata": {},
   "outputs": [
    {
     "data": {
      "text/plain": [
       "(0.8527253280401729, 0.017398948871150642)"
      ]
     },
     "execution_count": 73,
     "metadata": {},
     "output_type": "execute_result"
    }
   ],
   "source": [
    "np.mean(rf_cv_scores), np.std(rf_cv_scores)"
   ]
  },
  {
   "cell_type": "markdown",
   "metadata": {},
   "source": [
    "#### GridsearchCV"
   ]
  },
  {
   "cell_type": "code",
   "execution_count": 74,
   "metadata": {},
   "outputs": [
    {
     "data": {
      "text/plain": [
       "{'randomforestregressor__n_estimators': [10,\n",
       "  12,\n",
       "  16,\n",
       "  20,\n",
       "  26,\n",
       "  33,\n",
       "  42,\n",
       "  54,\n",
       "  69,\n",
       "  88,\n",
       "  112,\n",
       "  143,\n",
       "  183,\n",
       "  233,\n",
       "  297,\n",
       "  379,\n",
       "  483,\n",
       "  615,\n",
       "  784,\n",
       "  1000],\n",
       " 'standardscaler': [StandardScaler(), None]}"
      ]
     },
     "execution_count": 74,
     "metadata": {},
     "output_type": "execute_result"
    }
   ],
   "source": [
    "n_est = [int(n) for n in np.logspace(start=1, stop=3, num=20)]\n",
    "grid_params = {\n",
    "        'randomforestregressor__n_estimators': n_est,\n",
    "        'standardscaler': [StandardScaler(), None]\n",
    "}\n",
    "grid_params"
   ]
  },
  {
   "cell_type": "code",
   "execution_count": 75,
   "metadata": {},
   "outputs": [],
   "source": [
    "rf_grid_cv = GridSearchCV(RF_pipe, param_grid=grid_params, cv=5, n_jobs=-1)"
   ]
  },
  {
   "cell_type": "code",
   "execution_count": 76,
   "metadata": {},
   "outputs": [
    {
     "data": {
      "text/plain": [
       "GridSearchCV(cv=5,\n",
       "             estimator=Pipeline(steps=[('standardscaler', StandardScaler()),\n",
       "                                       ('randomforestregressor',\n",
       "                                        RandomForestRegressor())]),\n",
       "             n_jobs=-1,\n",
       "             param_grid={'randomforestregressor__n_estimators': [10, 12, 16, 20,\n",
       "                                                                 26, 33, 42, 54,\n",
       "                                                                 69, 88, 112,\n",
       "                                                                 143, 183, 233,\n",
       "                                                                 297, 379, 483,\n",
       "                                                                 615, 784,\n",
       "                                                                 1000],\n",
       "                         'standardscaler': [StandardScaler(), None]})"
      ]
     },
     "execution_count": 76,
     "metadata": {},
     "output_type": "execute_result"
    }
   ],
   "source": [
    "rf_grid_cv.fit(X_train, y_train)"
   ]
  },
  {
   "cell_type": "code",
   "execution_count": 77,
   "metadata": {},
   "outputs": [
    {
     "data": {
      "text/plain": [
       "{'randomforestregressor__n_estimators': 1000, 'standardscaler': None}"
      ]
     },
     "execution_count": 77,
     "metadata": {},
     "output_type": "execute_result"
    }
   ],
   "source": [
    "rf_grid_cv.best_params_"
   ]
  },
  {
   "cell_type": "code",
   "execution_count": 78,
   "metadata": {},
   "outputs": [
    {
     "data": {
      "text/plain": [
       "array([0.85488801, 0.8347132 , 0.84605049, 0.87032726, 0.87438075])"
      ]
     },
     "execution_count": 78,
     "metadata": {},
     "output_type": "execute_result"
    }
   ],
   "source": [
    "rf_best_cv_results = cross_validate(rf_grid_cv.best_estimator_, X_train, y_train, cv=5)\n",
    "rf_best_scores = rf_best_cv_results['test_score']\n",
    "rf_best_scores"
   ]
  },
  {
   "cell_type": "code",
   "execution_count": 79,
   "metadata": {},
   "outputs": [
    {
     "data": {
      "text/plain": [
       "(0.8560719412423354, 0.014808466104776567)"
      ]
     },
     "execution_count": 79,
     "metadata": {},
     "output_type": "execute_result"
    }
   ],
   "source": [
    "np.mean(rf_best_scores), np.std(rf_best_scores)"
   ]
  },
  {
   "cell_type": "code",
   "execution_count": 80,
   "metadata": {
    "scrolled": false
   },
   "outputs": [
    {
     "data": {
      "image/png": "[encoded data removed]",
      "text/plain": [
       "<Figure size 1440x720 with 1 Axes>"
      ]
     },
     "metadata": {
      "needs_background": "light"
     },
     "output_type": "display_data"
    }
   ],
   "source": [
    "plt.subplots(figsize=(20, 10))\n",
    "imps = rf_grid_cv.best_estimator_.named_steps.randomforestregressor.feature_importances_\n",
    "rf_feat_imps = pd.Series(imps, index=X_train.columns).sort_values(ascending=False)\n",
    "rf_feat_imps.plot(kind='bar')\n",
    "plt.xlabel('features')\n",
    "plt.ylabel('importance')\n",
    "plt.title('Best random forest regressor feature importances');"
   ]
  },
  {
   "cell_type": "code",
   "execution_count": 81,
   "metadata": {
    "scrolled": true
   },
   "outputs": [
    {
     "data": {
      "text/plain": [
       "House_Age           0.388429\n",
       "GrLivArea           0.216916\n",
       "TotalBsmtSF         0.123833\n",
       "ExterQual_TA        0.088364\n",
       "BsmtQual_Ex         0.087556\n",
       "LotArea             0.035575\n",
       "Garage_Age          0.019314\n",
       "OpenPorchSF         0.018611\n",
       "FireplaceQu_None    0.015249\n",
       "KitchenQual_Ex      0.006153\n",
       "dtype: float64"
      ]
     },
     "execution_count": 81,
     "metadata": {},
     "output_type": "execute_result"
    }
   ],
   "source": [
    "rf_feat_imps"
   ]
  },
  {
   "cell_type": "markdown",
   "metadata": {},
   "source": [
    "### 3. Lasso Regression Model"
   ]
  },
  {
   "cell_type": "code",
   "execution_count": 85,
   "metadata": {},
   "outputs": [
    {
     "data": {
      "text/plain": [
       "Lasso(alpha=0.4, normalize=True)"
      ]
     },
     "execution_count": 85,
     "metadata": {},
     "output_type": "execute_result"
    }
   ],
   "source": [
    "from sklearn.linear_model import Lasso\n",
    "\n",
    "lasso = Lasso(alpha=0.4, normalize=True)\n",
    "lasso.fit(X_train,y_train)"
   ]
  },
  {
   "cell_type": "code",
   "execution_count": 86,
   "metadata": {},
   "outputs": [],
   "source": [
    "df_vars=df.drop('SalePrice',axis=1)\n",
    "colnames = df_vars.columns"
   ]
  },
  {
   "cell_type": "code",
   "execution_count": 87,
   "metadata": {
    "scrolled": true
   },
   "outputs": [
    {
     "data": {
      "text/plain": [
       "BsmtQual_Ex         46204.917960\n",
       "KitchenQual_Ex      31976.387338\n",
       "Garage_Age             83.093401\n",
       "OpenPorchSF            55.219464\n",
       "GrLivArea              53.919401\n",
       "TotalBsmtSF            32.617751\n",
       "LotArea                 1.528300\n",
       "House_Age            -563.457039\n",
       "FireplaceQu_None    -9952.065414\n",
       "ExterQual_TA       -22511.217360\n",
       "dtype: float64"
      ]
     },
     "execution_count": 87,
     "metadata": {},
     "output_type": "execute_result"
    }
   ],
   "source": [
    "lasso_coef = lasso.coef_\n",
    "pd.Series(lasso_coef, index=colnames).sort_values(ascending=False)"
   ]
  },
  {
   "cell_type": "code",
   "execution_count": 88,
   "metadata": {},
   "outputs": [
    {
     "data": {
      "image/png": "[encoded data removed]",
      "text/plain": [
       "<Figure size 1200x800 with 1 Axes>"
      ]
     },
     "metadata": {
      "needs_background": "light"
     },
     "output_type": "display_data"
    }
   ],
   "source": [
    "# Plot the coefficients\n",
    "from matplotlib.pyplot import figure\n",
    "figure(figsize=(15, 10), dpi=80)\n",
    "plt.plot(range(len(colnames)), lasso_coef)\n",
    "plt.xticks(range(len(colnames)), colnames.values, rotation=90) \n",
    "plt.margins(0.02)\n",
    "plt.show()"
   ]
  },
  {
   "cell_type": "markdown",
   "metadata": {},
   "source": [
    "### 4. Ridge Regression Model"
   ]
  },
  {
   "cell_type": "code",
   "execution_count": 89,
   "metadata": {},
   "outputs": [],
   "source": [
    "from sklearn.linear_model import Ridge\n",
    "\n",
    "alpha_space = np.logspace(-4, 0, 50)\n",
    "ridge_scores = []\n",
    "ridge_scores_std = []\n",
    "\n",
    "ridge = Ridge(normalize=True)"
   ]
  },
  {
   "cell_type": "code",
   "execution_count": 90,
   "metadata": {},
   "outputs": [],
   "source": [
    "for alpha in alpha_space:\n",
    "    ridge.alpha = alpha\n",
    "    ridge_cv_scores = cross_val_score(ridge, X, y, cv=10)\n",
    "    ridge_scores.append(np.mean(ridge_cv_scores))\n",
    "    ridge_scores_std.append(np.std(ridge_cv_scores))"
   ]
  },
  {
   "cell_type": "code",
   "execution_count": 91,
   "metadata": {},
   "outputs": [],
   "source": [
    "def display_plot(cv_scores, cv_scores_std):\n",
    "    fig = plt.figure()\n",
    "    ax = fig.add_subplot(1,1,1)\n",
    "    ax.plot(alpha_space, cv_scores)\n",
    "\n",
    "    std_error = cv_scores_std / np.sqrt(10)\n",
    "\n",
    "    ax.fill_between(alpha_space, cv_scores + std_error, cv_scores - std_error, alpha=0.2)\n",
    "    ax.set_ylabel('CV Score +/- Std Error')\n",
    "    ax.set_xlabel('Alpha')\n",
    "    ax.axhline(np.max(cv_scores), linestyle='--', color='.5')\n",
    "    ax.set_xlim([alpha_space[0], alpha_space[-1]])\n",
    "    ax.set_xscale('log')\n",
    "    plt.show()\n"
   ]
  },
  {
   "cell_type": "code",
   "execution_count": 92,
   "metadata": {
    "scrolled": true
   },
   "outputs": [
    {
     "data": {
      "image/png": "[encoded data removed]",
      "text/plain": [
       "<Figure size 432x288 with 1 Axes>"
      ]
     },
     "metadata": {
      "needs_background": "light"
     },
     "output_type": "display_data"
    }
   ],
   "source": [
    "display_plot(ridge_scores, ridge_scores_std)"
   ]
  },
  {
   "cell_type": "markdown",
   "metadata": {},
   "source": [
    "## 4. Model Performance"
   ]
  },
  {
   "cell_type": "markdown",
   "metadata": {},
   "source": [
    "### Linear Regression Model"
   ]
  },
  {
   "cell_type": "code",
   "execution_count": 111,
   "metadata": {},
   "outputs": [],
   "source": [
    "lr_neg_mae = cross_validate(reg, X_train, y_train, \n",
    "                            scoring='neg_mean_absolute_error', cv=5, n_jobs=-1)"
   ]
  },
  {
   "cell_type": "code",
   "execution_count": 112,
   "metadata": {},
   "outputs": [
    {
     "data": {
      "text/plain": [
       "(18615.55148556662, 641.6818027838742)"
      ]
     },
     "execution_count": 112,
     "metadata": {},
     "output_type": "execute_result"
    }
   ],
   "source": [
    "lr_mae_mean = np.mean(-1 * lr_neg_mae['test_score'])\n",
    "lr_mae_std = np.std(-1 * lr_neg_mae['test_score'])\n",
    "lr_mae_mean, lr_mae_std"
   ]
  },
  {
   "cell_type": "code",
   "execution_count": 114,
   "metadata": {},
   "outputs": [
    {
     "data": {
      "text/plain": [
       "19779.89965087796"
      ]
     },
     "execution_count": 114,
     "metadata": {},
     "output_type": "execute_result"
    }
   ],
   "source": [
    "mean_absolute_error(y_test, reg.predict(X_test))"
   ]
  },
  {
   "cell_type": "markdown",
   "metadata": {},
   "source": [
    "### Random Forest Model"
   ]
  },
  {
   "cell_type": "code",
   "execution_count": 97,
   "metadata": {},
   "outputs": [],
   "source": [
    "rf_neg_mae = cross_validate(rf_grid_cv.best_estimator_, X_train, y_train, \n",
    "                            scoring='neg_mean_absolute_error', cv=5, n_jobs=-1)"
   ]
  },
  {
   "cell_type": "code",
   "execution_count": 98,
   "metadata": {},
   "outputs": [
    {
     "data": {
      "text/plain": [
       "(17088.659006317233, 1032.0095554079535)"
      ]
     },
     "execution_count": 98,
     "metadata": {},
     "output_type": "execute_result"
    }
   ],
   "source": [
    "rf_mae_mean = np.mean(-1 * rf_neg_mae['test_score'])\n",
    "rf_mae_std = np.std(-1 * rf_neg_mae['test_score'])\n",
    "rf_mae_mean, rf_mae_std"
   ]
  },
  {
   "cell_type": "code",
   "execution_count": 99,
   "metadata": {},
   "outputs": [
    {
     "data": {
      "text/plain": [
       "17557.124758472568"
      ]
     },
     "execution_count": 99,
     "metadata": {},
     "output_type": "execute_result"
    }
   ],
   "source": [
    "mean_absolute_error(y_test, rf_grid_cv.best_estimator_.predict(X_test))"
   ]
  },
  {
   "cell_type": "markdown",
   "metadata": {},
   "source": [
    "### Lasso Regression Model"
   ]
  },
  {
   "cell_type": "code",
   "execution_count": 115,
   "metadata": {},
   "outputs": [],
   "source": [
    "lasso_neg_mae = cross_validate(lasso, X_train, y_train, \n",
    "                            scoring='neg_mean_absolute_error', cv=5, n_jobs=-1)"
   ]
  },
  {
   "cell_type": "code",
   "execution_count": 116,
   "metadata": {},
   "outputs": [
    {
     "data": {
      "text/plain": [
       "(18614.602823577286, 641.5269406724203)"
      ]
     },
     "execution_count": 116,
     "metadata": {},
     "output_type": "execute_result"
    }
   ],
   "source": [
    "lasso_mae_mean = np.mean(-1 * lasso_neg_mae['test_score'])\n",
    "lasso_mae_std = np.std(-1 * lasso_neg_mae['test_score'])\n",
    "lasso_mae_mean, lasso_mae_std"
   ]
  },
  {
   "cell_type": "code",
   "execution_count": 117,
   "metadata": {},
   "outputs": [
    {
     "data": {
      "text/plain": [
       "19775.27503103904"
      ]
     },
     "execution_count": 117,
     "metadata": {},
     "output_type": "execute_result"
    }
   ],
   "source": [
    "mean_absolute_error(y_test, lasso.predict(X_test))"
   ]
  },
  {
   "cell_type": "markdown",
   "metadata": {},
   "source": [
    "### Ridge Regression Model"
   ]
  },
  {
   "cell_type": "code",
   "execution_count": 125,
   "metadata": {},
   "outputs": [
    {
     "data": {
      "text/plain": [
       "Ridge(normalize=True)"
      ]
     },
     "execution_count": 125,
     "metadata": {},
     "output_type": "execute_result"
    }
   ],
   "source": [
    "ridge_neg_mae = cross_validate(ridge, X_train, y_train, \n",
    "                            scoring='neg_mean_absolute_error', cv=5, n_jobs=-1)\n",
    "ridge.fit(X_train, y_train)"
   ]
  },
  {
   "cell_type": "code",
   "execution_count": 126,
   "metadata": {
    "scrolled": true
   },
   "outputs": [
    {
     "data": {
      "text/plain": [
       "(21184.959698873583, 899.3041482899164)"
      ]
     },
     "execution_count": 126,
     "metadata": {},
     "output_type": "execute_result"
    }
   ],
   "source": [
    "ridge_mae_mean = np.mean(-1 * ridge_neg_mae['test_score'])\n",
    "ridge_mae_std = np.std(-1 * ridge_neg_mae['test_score'])\n",
    "ridge_mae_mean, ridge_mae_std"
   ]
  },
  {
   "cell_type": "code",
   "execution_count": 127,
   "metadata": {},
   "outputs": [
    {
     "data": {
      "text/plain": [
       "20592.10792082996"
      ]
     },
     "execution_count": 127,
     "metadata": {},
     "output_type": "execute_result"
    }
   ],
   "source": [
    "mean_absolute_error(y_test, ridge.predict(X_test))"
   ]
  },
  {
   "cell_type": "markdown",
   "metadata": {},
   "source": [
    "## Conclusion"
   ]
  },
  {
   "cell_type": "markdown",
   "metadata": {},
   "source": [
    "After having narrowed down our features to the top 10 in terms of feature importance, we then ran four different regression models to determine which was best for predicting a home's sale price. We ran a basic linear regression model in addition to random forest, lasso and ridge regression models. After using these models to predict on our test set with 5 fold cross validation, we have determined the Forest Regression model to be the preferred and best performing model. "
   ]
  }
 ],
 "metadata": {
  "kernelspec": {
   "display_name": "Python 3",
   "language": "python",
   "name": "python3"
  },
  "language_info": {
   "codemirror_mode": {
    "name": "ipython",
    "version": 3
   },
   "file_extension": ".py",
   "mimetype": "text/x-python",
   "name": "python",
   "nbconvert_exporter": "python",
   "pygments_lexer": "ipython3",
   "version": "3.8.5"
  }
 },
 "nbformat": 4,
 "nbformat_minor": 4
}
