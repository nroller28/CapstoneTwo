{
 "cells": [
  {
   "cell_type": "markdown",
   "metadata": {},
   "source": [
    "# Pre-Processing: Housing Price Predicition"
   ]
  },
  {
   "cell_type": "code",
   "execution_count": 16,
   "metadata": {},
   "outputs": [],
   "source": [
    "import numpy as np\n",
    "import pandas as pd\n",
    "import matplotlib.pyplot as plt\n",
    "import seaborn as sns\n",
    "from sklearn.linear_model import LinearRegression\n",
    "from sklearn.model_selection import train_test_split\n",
    "from sklearn.model_selection import cross_val_score\n",
    "from sklearn.linear_model import Lasso\n",
    "from sklearn.preprocessing import StandardScaler, MinMaxScaler\n",
    "from library.sb_utils import save_file"
   ]
  },
  {
   "cell_type": "code",
   "execution_count": 4,
   "metadata": {},
   "outputs": [],
   "source": [
    "data = pd.read_csv(\"Data Files/train_data_engineered.csv\")"
   ]
  },
  {
   "cell_type": "code",
   "execution_count": 5,
   "metadata": {},
   "outputs": [
    {
     "data": {
      "text/plain": [
       "(1137, 65)"
      ]
     },
     "execution_count": 5,
     "metadata": {},
     "output_type": "execute_result"
    }
   ],
   "source": [
    "data.shape"
   ]
  },
  {
   "cell_type": "code",
   "execution_count": 6,
   "metadata": {},
   "outputs": [
    {
     "name": "stdout",
     "output_type": "stream",
     "text": [
      "<class 'pandas.core.frame.DataFrame'>\n",
      "RangeIndex: 1137 entries, 0 to 1136\n",
      "Data columns (total 65 columns):\n",
      " #   Column         Non-Null Count  Dtype  \n",
      "---  ------         --------------  -----  \n",
      " 0   SalePrice      1137 non-null   int64  \n",
      " 1   LotFrontage    1137 non-null   float64\n",
      " 2   LotArea        1137 non-null   int64  \n",
      " 3   MasVnrArea     1137 non-null   float64\n",
      " 4   BsmtFinSF1     1137 non-null   int64  \n",
      " 5   BsmtUnfSF      1137 non-null   int64  \n",
      " 6   TotalBsmtSF    1137 non-null   int64  \n",
      " 7   1stFlrSF       1137 non-null   int64  \n",
      " 8   2ndFlrSF       1137 non-null   int64  \n",
      " 9   GrLivArea      1137 non-null   int64  \n",
      " 10  BsmtFullBath   1137 non-null   int64  \n",
      " 11  FullBath       1137 non-null   int64  \n",
      " 12  HalfBath       1137 non-null   int64  \n",
      " 13  BedroomAbvGr   1137 non-null   int64  \n",
      " 14  TotRmsAbvGrd   1137 non-null   int64  \n",
      " 15  Fireplaces     1137 non-null   int64  \n",
      " 16  GarageCars     1137 non-null   int64  \n",
      " 17  GarageArea     1137 non-null   int64  \n",
      " 18  WoodDeckSF     1137 non-null   int64  \n",
      " 19  OpenPorchSF    1137 non-null   int64  \n",
      " 20  MiscVal        1137 non-null   int64  \n",
      " 21  MSZoning       1137 non-null   object \n",
      " 22  Alley          1137 non-null   object \n",
      " 23  LotShape       1137 non-null   object \n",
      " 24  LandContour    1137 non-null   object \n",
      " 25  LotConfig      1137 non-null   object \n",
      " 26  LandSlope      1137 non-null   object \n",
      " 27  Neighborhood   1137 non-null   object \n",
      " 28  Condition1     1137 non-null   object \n",
      " 29  BldgType       1137 non-null   object \n",
      " 30  HouseStyle     1137 non-null   object \n",
      " 31  RoofStyle      1137 non-null   object \n",
      " 32  Exterior1st    1137 non-null   object \n",
      " 33  Exterior2nd    1137 non-null   object \n",
      " 34  MasVnrType     1137 non-null   object \n",
      " 35  ExterQual      1137 non-null   object \n",
      " 36  ExterCond      1137 non-null   object \n",
      " 37  Foundation     1137 non-null   object \n",
      " 38  BsmtQual       1137 non-null   object \n",
      " 39  BsmtCond       1137 non-null   object \n",
      " 40  BsmtExposure   1137 non-null   object \n",
      " 41  BsmtFinType1   1137 non-null   object \n",
      " 42  BsmtFinType2   1137 non-null   object \n",
      " 43  Heating        1137 non-null   object \n",
      " 44  HeatingQC      1137 non-null   object \n",
      " 45  CentralAir     1137 non-null   object \n",
      " 46  Electrical     1137 non-null   object \n",
      " 47  KitchenQual    1137 non-null   object \n",
      " 48  Functional     1137 non-null   object \n",
      " 49  FireplaceQu    1137 non-null   object \n",
      " 50  GarageType     1137 non-null   object \n",
      " 51  GarageFinish   1137 non-null   object \n",
      " 52  GarageQual     1137 non-null   object \n",
      " 53  GarageCond     1137 non-null   object \n",
      " 54  PavedDrive     1137 non-null   object \n",
      " 55  Fence          1137 non-null   object \n",
      " 56  MiscFeature    1137 non-null   object \n",
      " 57  SaleType       1137 non-null   object \n",
      " 58  SaleCondition  1137 non-null   object \n",
      " 59  MSSubClass     1137 non-null   int64  \n",
      " 60  OverallQual    1137 non-null   int64  \n",
      " 61  OverallCond    1137 non-null   int64  \n",
      " 62  House_Age      1137 non-null   int64  \n",
      " 63  Remod_Age      1137 non-null   int64  \n",
      " 64  Garage_Age     1137 non-null   float64\n",
      "dtypes: float64(3), int64(24), object(38)\n",
      "memory usage: 577.5+ KB\n"
     ]
    }
   ],
   "source": [
    "data.info()"
   ]
  },
  {
   "cell_type": "code",
   "execution_count": 7,
   "metadata": {},
   "outputs": [
    {
     "data": {
      "text/plain": [
       "Index(['SalePrice', 'LotFrontage', 'LotArea', 'MasVnrArea', 'BsmtFinSF1',\n",
       "       'BsmtUnfSF', 'TotalBsmtSF', '1stFlrSF', '2ndFlrSF', 'GrLivArea',\n",
       "       'BsmtFullBath', 'FullBath', 'HalfBath', 'BedroomAbvGr', 'TotRmsAbvGrd',\n",
       "       'Fireplaces', 'GarageCars', 'GarageArea', 'WoodDeckSF', 'OpenPorchSF',\n",
       "       'MiscVal', 'MSZoning', 'Alley', 'LotShape', 'LandContour', 'LotConfig',\n",
       "       'LandSlope', 'Neighborhood', 'Condition1', 'BldgType', 'HouseStyle',\n",
       "       'RoofStyle', 'Exterior1st', 'Exterior2nd', 'MasVnrType', 'ExterQual',\n",
       "       'ExterCond', 'Foundation', 'BsmtQual', 'BsmtCond', 'BsmtExposure',\n",
       "       'BsmtFinType1', 'BsmtFinType2', 'Heating', 'HeatingQC', 'CentralAir',\n",
       "       'Electrical', 'KitchenQual', 'Functional', 'FireplaceQu', 'GarageType',\n",
       "       'GarageFinish', 'GarageQual', 'GarageCond', 'PavedDrive', 'Fence',\n",
       "       'MiscFeature', 'SaleType', 'SaleCondition', 'MSSubClass', 'OverallQual',\n",
       "       'OverallCond', 'House_Age', 'Remod_Age', 'Garage_Age'],\n",
       "      dtype='object')"
      ]
     },
     "execution_count": 7,
     "metadata": {},
     "output_type": "execute_result"
    }
   ],
   "source": [
    "data.columns"
   ]
  },
  {
   "cell_type": "code",
   "execution_count": 8,
   "metadata": {
    "scrolled": true
   },
   "outputs": [],
   "source": [
    "features = ['BsmtFullBath', 'FullBath', 'HalfBath', 'BedroomAbvGr', 'TotRmsAbvGrd',\n",
    "       'Fireplaces', 'GarageCars','MSZoning', 'Alley', 'LotShape', 'LandContour', 'LotConfig',\n",
    "       'LandSlope', 'Neighborhood', 'Condition1', 'BldgType', 'HouseStyle',\n",
    "       'RoofStyle', 'Exterior1st', 'Exterior2nd', 'MasVnrType', 'ExterQual',\n",
    "       'ExterCond', 'Foundation', 'BsmtQual', 'BsmtCond', 'BsmtExposure',\n",
    "       'BsmtFinType1', 'BsmtFinType2', 'Heating', 'HeatingQC', 'CentralAir',\n",
    "       'Electrical', 'KitchenQual', 'Functional', 'FireplaceQu', 'GarageType',\n",
    "       'GarageFinish', 'GarageQual', 'GarageCond', 'PavedDrive', 'Fence',\n",
    "       'MiscFeature', 'SaleType', 'SaleCondition', 'MSSubClass', 'OverallQual',\n",
    "       'OverallCond']\n",
    "dummies = pd.get_dummies(data[features])\n",
    "data_dummies = pd.concat([data,dummies],axis=1)\n",
    "data_encoded = data_dummies.drop(['BsmtFullBath', 'FullBath', 'HalfBath', 'BedroomAbvGr', 'TotRmsAbvGrd',\n",
    "       'Fireplaces', 'GarageCars','MSZoning', 'Alley', 'LotShape', 'LandContour', 'LotConfig',\n",
    "       'LandSlope', 'Neighborhood', 'Condition1', 'BldgType', 'HouseStyle',\n",
    "       'RoofStyle', 'Exterior1st', 'Exterior2nd', 'MasVnrType', 'ExterQual',\n",
    "       'ExterCond', 'Foundation', 'BsmtQual', 'BsmtCond', 'BsmtExposure',\n",
    "       'BsmtFinType1', 'BsmtFinType2', 'Heating', 'HeatingQC', 'CentralAir',\n",
    "       'Electrical', 'KitchenQual', 'Functional', 'FireplaceQu', 'GarageType',\n",
    "       'GarageFinish', 'GarageQual', 'GarageCond', 'PavedDrive', 'Fence',\n",
    "       'MiscFeature', 'SaleType', 'SaleCondition', 'MSSubClass', 'OverallQual',\n",
    "       'OverallCond'], axis=1)"
   ]
  },
  {
   "cell_type": "code",
   "execution_count": 9,
   "metadata": {},
   "outputs": [
    {
     "data": {
      "text/plain": [
       "(1137, 251)"
      ]
     },
     "execution_count": 9,
     "metadata": {},
     "output_type": "execute_result"
    }
   ],
   "source": [
    "data_encoded.shape"
   ]
  },
  {
   "cell_type": "code",
   "execution_count": 11,
   "metadata": {},
   "outputs": [],
   "source": [
    "X_train, X_test, y_train, y_test = train_test_split(data_encoded.drop(columns='SalePrice'), \n",
    "                                                    data_encoded.SalePrice, test_size=0.3, \n",
    "                                                    random_state=123)"
   ]
  },
  {
   "cell_type": "code",
   "execution_count": 14,
   "metadata": {},
   "outputs": [],
   "source": [
    "scaler = StandardScaler()\n",
    "scaler.fit(X_train)\n",
    "X_tr_scaled = scaler.transform(X_train)\n",
    "X_te_scaled = scaler.transform(X_test)"
   ]
  },
  {
   "cell_type": "code",
   "execution_count": 19,
   "metadata": {},
   "outputs": [
    {
     "name": "stdout",
     "output_type": "stream",
     "text": [
      "A file already exists with this name.\n",
      "\n",
      "Do you want to overwrite? (Y/N)Y\n",
      "Writing file.  \"C:\\Springboard_\\CapstoneTwo\\Data Files\\data_preprocessed.csv\"\n"
     ]
    }
   ],
   "source": [
    "#Saving preprocessed data to new csv\n",
    "datapath = 'C:\\Springboard_\\CapstoneTwo\\Data Files'\n",
    "save_file(data_encoded, 'data_preprocessed.csv', datapath)"
   ]
  },
  {
   "cell_type": "code",
   "execution_count": null,
   "metadata": {},
   "outputs": [],
   "source": []
  }
 ],
 "metadata": {
  "kernelspec": {
   "display_name": "Python 3",
   "language": "python",
   "name": "python3"
  },
  "language_info": {
   "codemirror_mode": {
    "name": "ipython",
    "version": 3
   },
   "file_extension": ".py",
   "mimetype": "text/x-python",
   "name": "python",
   "nbconvert_exporter": "python",
   "pygments_lexer": "ipython3",
   "version": "3.8.5"
  }
 },
 "nbformat": 4,
 "nbformat_minor": 4
}
